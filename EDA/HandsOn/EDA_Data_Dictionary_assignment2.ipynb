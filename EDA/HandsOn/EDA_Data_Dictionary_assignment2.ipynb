{
 "cells": [
  {
   "cell_type": "code",
   "execution_count": null,
   "metadata": {},
   "outputs": [],
   "source": [
    "Data Dictionary of the Dataset :\n",
    "\n",
    "State : 51 Unique States in United States of America\n",
    "Account Length. Length of The Account\n",
    "\n",
    "Area Code 415 relates to San Francisco,408 is of San Jose and 510 is of City of Okland\n",
    "International Plan Yes Indicate International Plan is Present and No Indicates no subscription for\n",
    "International Plan\n",
    "Voicemail Plan Yes Indicates Voicemail Plan is Present and No Indicates no subscription for VoiceMail\n",
    "Plan\n",
    "Number vmail messages Number of Voicemail Messages ranging from 0 to 50\n",
    "\n",
    "Total day minutes Total Number of Minutes Spent By Customers in Morning\n",
    "Total day calls Total Number of Calls made by Customer in Morning.\n",
    "Total day charge Total Charge to the Customers in Morning.\n",
    "Total eve minutesTotal Number of Minutes Spent By Customers in Eve\n",
    "Total eve calls Total Number of Calls made by Customer in Evening.\n",
    "Total eve charge Total Charge to the Customers in Morning.\n",
    "Total night minutes Total Number of Minutes Spent By Customers in the Night.\n",
    "Total night calls Total Number of Calls made by Customer in Night.\n",
    "Total night charge Total Charge to the Customers in Night."
   ]
  }
 ],
 "metadata": {
  "kernelspec": {
   "display_name": "Python 3",
   "language": "python",
   "name": "python3"
  },
  "language_info": {
   "codemirror_mode": {
    "name": "ipython",
    "version": 3
   },
   "file_extension": ".py",
   "mimetype": "text/x-python",
   "name": "python",
   "nbconvert_exporter": "python",
   "pygments_lexer": "ipython3",
   "version": "3.7.7"
  }
 },
 "nbformat": 4,
 "nbformat_minor": 4
}
