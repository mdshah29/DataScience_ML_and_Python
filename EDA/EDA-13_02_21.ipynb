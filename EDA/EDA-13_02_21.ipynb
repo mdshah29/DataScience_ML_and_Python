{
 "cells": [
  {
   "cell_type": "markdown",
   "metadata": {},
   "source": [
    "Session on 13/02/2021"
   ]
  },
  {
   "cell_type": "markdown",
   "metadata": {},
   "source": [
    "#### Focus is to analyse the probability  to predict whether a Titanic passenger survived based on their attributes i.e. gender, title, age and many more."
   ]
  },
  {
   "cell_type": "markdown",
   "metadata": {},
   "source": [
    "### Exploratory Data Analysis\n",
    "* Exploratory Data Analysis (EDA) is a method used to analyze and summarize datasets. \n",
    "* Majority of the EDA techniques use Pandas Seaborn and Matplotlib"
   ]
  },
  {
   "cell_type": "code",
   "execution_count": null,
   "metadata": {},
   "outputs": [],
   "source": [
    "### Titanic Dataset\n",
    "* It is one of the most popular datasets used for understanding machine learning basics. \n",
    "* It contains information of all the passengers aboard the RMS Titanic, which unfortunately was shipwrecked. \n",
    "* This dataset can be used to predict whether a given passenger survived or not.\n",
    "* https://www.kaggle.com/c/titanic/data"
   ]
  },
  {
   "cell_type": "code",
   "execution_count": null,
   "metadata": {},
   "outputs": [],
   "source": [
    "#importing all the necessary libraries\n",
    "import pandas as pd\n",
    "import matplotlib.pyplot as plt\n",
    "import seaborn as sns\n",
    "%matplotlib inline"
   ]
  },
  {
   "cell_type": "code",
   "execution_count": null,
   "metadata": {},
   "outputs": [],
   "source": [
    "#importing data\n",
    "#read_csv function is used to read titanic.csv file\n",
    "data=pd.read_csv('titanic.csv')"
   ]
  },
  {
   "cell_type": "code",
   "execution_count": null,
   "metadata": {},
   "outputs": [],
   "source": [
    "#Read the first five records\n"
   ]
  },
  {
   "cell_type": "code",
   "execution_count": null,
   "metadata": {},
   "outputs": [],
   "source": [
    "#Print the last five records\n"
   ]
  },
  {
   "cell_type": "markdown",
   "metadata": {},
   "source": [
    "###  About the Dataset- the columns and the values the take\n",
    "* There are 12 columns in the dataset. Target feature = Survived. All others are descriptive features\n",
    "* PassengerId - Id of passenger,   Survived - Whether survived or not(0,1),  PClass - Ticket class:1st, 2nd or 3rd(1 is higher), Sex- gender\n",
    "* SibSp- No of siblings/spouses on board,  Parch - Number of parents/children on board, Cabin- Cabin Number, \n",
    "* Embark - Port of embarkation, S- Southampton, C- Cherbourg, Q- Queenstown"
   ]
  },
  {
   "cell_type": "code",
   "execution_count": null,
   "metadata": {},
   "outputs": [],
   "source": [
    "#reading data using different parameter values\n",
    "df=pd.read_csv('titanic.csv',header=None) \n",
    "#header=None parameter will read the data without the header and considers it in data itself\n",
    "df.head()"
   ]
  },
  {
   "cell_type": "code",
   "execution_count": null,
   "metadata": {},
   "outputs": [],
   "source": [
    "#header=0 is same as default and it means that it will consider 0th row for the header\n",
    "df=pd.read_csv('titanic.csv',header=0)\n",
    "df.head()"
   ]
  },
  {
   "cell_type": "markdown",
   "metadata": {},
   "source": [
    "## Data shape, Data types and NaN values"
   ]
  },
  {
   "cell_type": "code",
   "execution_count": null,
   "metadata": {},
   "outputs": [],
   "source": [
    "#shape checks the rows and columns of the data , we have 891 rows and 12 columns in our dataset\n"
   ]
  },
  {
   "cell_type": "code",
   "execution_count": null,
   "metadata": {},
   "outputs": [],
   "source": [
    "#dtypes check the data types of our features\n",
    "#Attribute in Dataframe to check the type of each column in the Dataframe\n"
   ]
  },
  {
   "cell_type": "markdown",
   "metadata": {},
   "source": [
    "* Data types int64, float64 and object.  First two simply means integers and floats respectively, while the object is essentially just a string"
   ]
  },
  {
   "cell_type": "code",
   "execution_count": null,
   "metadata": {},
   "outputs": [],
   "source": [
    "#Get detailed information about the Dataframe about the type\n",
    "#and null values in each column\n",
    "data.info()"
   ]
  },
  {
   "cell_type": "markdown",
   "metadata": {},
   "source": [
    "* Observe that there are only 714 non-null values for the 'Age' column in a DataFrame with 891 rows. So there are are 177 null or missing values. \n",
    "* Likewise Cabin has 891-204=667 null values. Embarked has 2 null values. "
   ]
  },
  {
   "cell_type": "code",
   "execution_count": null,
   "metadata": {},
   "outputs": [],
   "source": [
    "#Checking the total null values in our features\n"
   ]
  },
  {
   "cell_type": "code",
   "execution_count": null,
   "metadata": {},
   "outputs": [],
   "source": [
    "#visualizing the null values in the dataset using a heatmap\n"
   ]
  },
  {
   "cell_type": "code",
   "execution_count": null,
   "metadata": {},
   "outputs": [],
   "source": [
    "#let's check the rows where embarked value is NaN\n",
    "#embarked is the station the passanger was picked up \n"
   ]
  },
  {
   "cell_type": "code",
   "execution_count": null,
   "metadata": {},
   "outputs": [],
   "source": [
    "#finding the percentage of null values\n",
    "print('Age :',data.Age.isnull().sum()/len(data)*100)\n"
   ]
  },
  {
   "cell_type": "markdown",
   "metadata": {},
   "source": [
    "* These missing values may cause a problem — for sure — we need to fix them"
   ]
  },
  {
   "cell_type": "markdown",
   "metadata": {},
   "source": [
    "## Missing value imputation\n",
    "* Imputation replaces missing feature values with a plausible estimated value based on the feature values that are present.\n",
    "* The most common approach to imputation is to replace missing values for a feature with a measure of the central tendency of that feature.\n",
    "* We would be reluctant to use imputation on features missing in excess of 30% of their values and wouldstrongly recommend against the use of imputation on features missing in excess of 50% of their values.\n",
    "\n",
    "* Replace only the missing Age, not the entire values in Age column."
   ]
  },
  {
   "cell_type": "code",
   "execution_count": null,
   "metadata": {},
   "outputs": [],
   "source": [
    "#let's check the distribution of Age feature\n",
    "# Why we do this?  This distribution should be retained after filling the missing values\n"
   ]
  },
  {
   "cell_type": "code",
   "execution_count": null,
   "metadata": {},
   "outputs": [],
   "source": [
    "#Age feature is not highly skewed so we will impute missing values with mean\n",
    "   # Age_mean column is added to the dataset"
   ]
  },
  {
   "cell_type": "code",
   "execution_count": null,
   "metadata": {},
   "outputs": [],
   "source": [
    "data.head()"
   ]
  },
  {
   "cell_type": "code",
   "execution_count": null,
   "metadata": {},
   "outputs": [],
   "source": [
    "# see the distribution using sns\n",
    "sns.distplot(data['Age'],hist=True)\n",
    "sns.distplot(data['Age_mean'],hist=True)\n",
    "plt.show()"
   ]
  },
  {
   "cell_type": "code",
   "execution_count": null,
   "metadata": {},
   "outputs": [],
   "source": [
    "#checking the distribution of Age and Age-mean after imputation\n",
    "#using DataFrame's plot function"
   ]
  },
  {
   "cell_type": "markdown",
   "metadata": {},
   "source": [
    "* SInce the distributions are similar so the filling of missing values if OK"
   ]
  },
  {
   "cell_type": "code",
   "execution_count": null,
   "metadata": {},
   "outputs": [],
   "source": [
    "#Cabin feature tells us that which cabins are received by passengers , if the cabin value is null that means\n",
    "#passenger was not allocated with the cabin or the record has been lost . So we will impute missing data of cabin with\n",
    "#NA value"
   ]
  },
  {
   "cell_type": "code",
   "execution_count": null,
   "metadata": {},
   "outputs": [],
   "source": [
    "data.Cabin.fillna('NA',inplace=True)"
   ]
  },
  {
   "cell_type": "code",
   "execution_count": null,
   "metadata": {},
   "outputs": [],
   "source": [
    "#Cabin has huge amount null values, so we can  drop the ‘Cabin’ column \n",
    "# Also this column has no effect on the outcome \"Survived\"\n",
    "# To do so we shall use the following code snippet\n",
    "# data.drop('Cabin',axis=1,inplace=True)"
   ]
  },
  {
   "cell_type": "code",
   "execution_count": null,
   "metadata": {},
   "outputs": [],
   "source": [
    "#checking the value counts of each category in Embarked to find mode\n",
    "print('Value counts of Embarked:\\n', data.Embarked.value_counts())\n",
    "print(data['Embarked'].unique())    #gives the categories in a categorical variable"
   ]
  },
  {
   "cell_type": "code",
   "execution_count": null,
   "metadata": {},
   "outputs": [],
   "source": [
    "#we can either impute Embarked feature with mode value as it is categorical variable or\n",
    "# we can drop the rows where there is missing values as it is very less . For now we will use mode \n"
   ]
  },
  {
   "cell_type": "code",
   "execution_count": null,
   "metadata": {},
   "outputs": [],
   "source": [
    "#Once again  check the total null values in our features after imputation\n",
    "\n",
    "# Age has been updated in Age_mean which has no missing values"
   ]
  },
  {
   "cell_type": "code",
   "execution_count": null,
   "metadata": {},
   "outputs": [],
   "source": [
    "#data after imputation\n",
    "data.head()"
   ]
  },
  {
   "cell_type": "markdown",
   "metadata": {},
   "source": [
    "## Dropping the unnecessary features"
   ]
  },
  {
   "cell_type": "code",
   "execution_count": null,
   "metadata": {},
   "outputs": [],
   "source": [
    "#dropping Age variable from the data as our new age after imputation is Age_mean\n",
    "# drop PassengerId','Name','Ticket' and 'Cabin'"
   ]
  },
  {
   "cell_type": "code",
   "execution_count": null,
   "metadata": {},
   "outputs": [],
   "source": [
    "data.head()"
   ]
  },
  {
   "cell_type": "markdown",
   "metadata": {},
   "source": [
    "## Treating outliers\n",
    "* an outlier is a data point that differs significantly from other observations.\n",
    "* An outlier may be due to variability in the measurement or it may indicate experimental error; \n",
    "* The latter are sometimes excluded from the data set as they can cause serious problems in statistical analyses\n",
    "*  We can either drop or treat the outliers. We will be discussing both techniques here ."
   ]
  },
  {
   "cell_type": "code",
   "execution_count": null,
   "metadata": {},
   "outputs": [],
   "source": [
    "#making the copy of data to showcase how to drop outlier values\n",
    "df=data.copy()"
   ]
  },
  {
   "cell_type": "code",
   "execution_count": null,
   "metadata": {},
   "outputs": [],
   "source": [
    "# Boxplot helps to identify the outliers in any feature\n",
    "#outliers in Age"
   ]
  },
  {
   "cell_type": "markdown",
   "metadata": {},
   "source": [
    "#### Removing outliers"
   ]
  },
  {
   "cell_type": "code",
   "execution_count": null,
   "metadata": {},
   "outputs": [],
   "source": [
    "#calculating IQR(Inter- Quartile range) of dataset\n",
    "Q1=df.quantile(0.25)           #  Lower quartile\n",
    "Q3=df.quantile(0.75)           # Upper quartile\n",
    "IQR=Q3-Q1                   #Inter-Quartile Range\n",
    "IQR"
   ]
  },
  {
   "cell_type": "code",
   "execution_count": null,
   "metadata": {},
   "outputs": [],
   "source": [
    "#removing outliers in the dataset\n",
    "#Retain values in df which are not outliers\n",
    "df = df[~((df < (Q1 - 1.5 * IQR)) |(df > (Q3 + 1.5 * IQR))).any(axis=1)]  "
   ]
  },
  {
   "cell_type": "code",
   "execution_count": null,
   "metadata": {},
   "outputs": [],
   "source": [
    "#shape of data after removing outliers\n",
    "df.shape"
   ]
  },
  {
   "cell_type": "markdown",
   "metadata": {},
   "source": [
    "#### Treating outliers"
   ]
  },
  {
   "cell_type": "code",
   "execution_count": null,
   "metadata": {},
   "outputs": [],
   "source": [
    "IQR=data['Age_mean'].quantile(0.75)-data['Age_mean'].quantile(0.25)"
   ]
  },
  {
   "cell_type": "code",
   "execution_count": null,
   "metadata": {},
   "outputs": [],
   "source": [
    "lower_bridge=data['Age_mean'].quantile(0.25)-(IQR*1.5)\n",
    "upper_bridge=data['Age_mean'].quantile(0.75)+(IQR*1.5)\n",
    "print(lower_bridge)\n",
    "print(upper_bridge)"
   ]
  },
  {
   "cell_type": "code",
   "execution_count": null,
   "metadata": {},
   "outputs": [],
   "source": [
    "# Push the outliers to the threshold value\n",
    "data.loc[data['Age_mean']>54,'Age_mean']=54\n",
    "data.loc[data['Age_mean']<2,'Age_mean']=2"
   ]
  },
  {
   "cell_type": "markdown",
   "metadata": {},
   "source": [
    "## Exploratory Data Analysis\n",
    "* we had discussed  Univariate or Bivariate Analysis \n",
    "* Data Analysis on relation between feature variables and target variables\n",
    "* Using plots and pandas"
   ]
  },
  {
   "cell_type": "code",
   "execution_count": null,
   "metadata": {},
   "outputs": [],
   "source": [
    "#Statistical summary\n",
    "data.describe()"
   ]
  },
  {
   "cell_type": "code",
   "execution_count": null,
   "metadata": {},
   "outputs": [],
   "source": [
    "* Inference: In the training set:\n",
    "* 38.3% people survived\n",
    "* More number of people were actually in 3rd class\n",
    "* 50% of passengers were in between the age of 20 to 38\n",
    "* Since the survival rate is 0.38, even if I decide to give a submission of all passengers being\n",
    "* perished, I would still be having a accuracy of 62%. \n",
    "* So accuracy cannot be considered as the only measure in saying how good the model is."
   ]
  },
  {
   "cell_type": "code",
   "execution_count": null,
   "metadata": {},
   "outputs": [],
   "source": [
    "#to include categorical variable also\n",
    "data.describe(include='all')"
   ]
  },
  {
   "cell_type": "markdown",
   "metadata": {},
   "source": [
    "### Analyse the relation between target variables and the categorical variables in the dataset\n",
    "### The categorical variables considered are Sex, Pclass, Embarked"
   ]
  },
  {
   "cell_type": "code",
   "execution_count": null,
   "metadata": {},
   "outputs": [],
   "source": [
    "### Q. Does the target variable have any relation to Gender?\n",
    "###  Analyse the number of survivors as per gender"
   ]
  },
  {
   "cell_type": "code",
   "execution_count": null,
   "metadata": {},
   "outputs": [],
   "source": [
    "# Count of males and females in the dataset using pandas\n"
   ]
  },
  {
   "cell_type": "code",
   "execution_count": null,
   "metadata": {},
   "outputs": [],
   "source": [
    "# Number of males and females in the dataset using plot\n",
    "# Tells how males and females are ditributed over the dataset\n",
    "sns.countplot(x='Sex', data=data);\n",
    "plt.show()"
   ]
  },
  {
   "cell_type": "code",
   "execution_count": null,
   "metadata": {},
   "outputs": [],
   "source": [
    "#Use  seaborn to build bar plots of the Titanic dataset feature 'Survived' split (faceted) over the feature 'Sex'\n",
    "sns.catplot(x='Survived', col='Sex', kind='count', data=data)   #factorplot()\n",
    "plt.show()"
   ]
  },
  {
   "cell_type": "markdown",
   "metadata": {},
   "source": [
    "* Women were more likely to survive than men."
   ]
  },
  {
   "cell_type": "code",
   "execution_count": null,
   "metadata": {},
   "outputs": [],
   "source": [
    "# use pandas to figure out how many women and how many men survived\n"
   ]
  },
  {
   "cell_type": "code",
   "execution_count": null,
   "metadata": {},
   "outputs": [],
   "source": []
  },
  {
   "cell_type": "code",
   "execution_count": null,
   "metadata": {},
   "outputs": [],
   "source": [
    "# Proportion of men and women who survived\n",
    "propW= data[data.Sex=='female'].Survived.sum()/data[data.Sex== 'female'].Survived.count()\n",
    "\n",
    "print(\"\\n Proportion of men survived = \", propW)\n"
   ]
  },
  {
   "cell_type": "code",
   "execution_count": null,
   "metadata": {},
   "outputs": [],
   "source": [
    "* Q Number of male and female survivors as per the station of embarkment"
   ]
  },
  {
   "cell_type": "code",
   "execution_count": null,
   "metadata": {},
   "outputs": [],
   "source": []
  },
  {
   "cell_type": "markdown",
   "metadata": {},
   "source": [
    "### Build bar plots of the Titanic dataset feature 'Survived' split (faceted) over the feature 'Pclass'."
   ]
  },
  {
   "cell_type": "code",
   "execution_count": null,
   "metadata": {},
   "outputs": [],
   "source": []
  },
  {
   "cell_type": "markdown",
   "metadata": {},
   "source": [
    "* Passengers that travelled in first class were more likely to survive.\n",
    "* On the other hand, passengers travelling in third class were more unlikely to survive"
   ]
  },
  {
   "cell_type": "code",
   "execution_count": null,
   "metadata": {},
   "outputs": [],
   "source": [
    "# Plot feature 'Survived' split (faceted) over the feature 'Embarked'.\n",
    "sns.catplot(x='Survived', col='Embarked', kind='count', data=data)   #factorplot()\n",
    "plt.show()"
   ]
  },
  {
   "cell_type": "code",
   "execution_count": null,
   "metadata": {},
   "outputs": [],
   "source": [
    "data.groupby(['Embarked'])['Survived'].sum()\n",
    "#Q: Proportion of people survived as per station of embarkment"
   ]
  },
  {
   "cell_type": "markdown",
   "metadata": {},
   "source": [
    "* Passengers who  embarked in Southampton were less likely to survive."
   ]
  },
  {
   "cell_type": "code",
   "execution_count": null,
   "metadata": {},
   "outputs": [],
   "source": [
    "# Proportion of males and females survived as per Embarked\n",
    "data.groupby(['Sex', 'Embarked'])['Survived'].sum()"
   ]
  },
  {
   "cell_type": "markdown",
   "metadata": {},
   "source": [
    "### Analyse the relation between target variables and the Numeric variables in the dataset\n",
    "### The Numeric  variables considered are Fare, Age_mean"
   ]
  },
  {
   "cell_type": "code",
   "execution_count": null,
   "metadata": {},
   "outputs": [],
   "source": [
    "# Distribution of Fare\n"
   ]
  },
  {
   "cell_type": "markdown",
   "metadata": {},
   "source": [
    "* Most passengers paid less than 100 for travelling with the Titanic"
   ]
  },
  {
   "cell_type": "code",
   "execution_count": null,
   "metadata": {},
   "outputs": [],
   "source": [
    "#plot the column 'Fare' for each value of 'Survived' on the same plot.\n"
   ]
  },
  {
   "cell_type": "markdown",
   "metadata": {},
   "source": [
    "* People who paid more had  higher chance of surviving"
   ]
  },
  {
   "cell_type": "code",
   "execution_count": null,
   "metadata": {},
   "outputs": [],
   "source": [
    "# histogram plot of the 'Age_mean' column of data\n",
    "#sns.distplot(data.Age_mean, kde=False)\n",
    "sns.distplot(data.Age_mean,bins=20, kde=False)\n",
    "plt.show()"
   ]
  },
  {
   "cell_type": "markdown",
   "metadata": {},
   "source": [
    "* Survival is more for people in the age range 15 to 40. So young people are more likely to survive "
   ]
  },
  {
   "cell_type": "code",
   "execution_count": null,
   "metadata": {},
   "outputs": [],
   "source": [
    "# Use seaborn to plot a scatter plot of 'Age' against 'Fare', colored by 'Survived'\n"
   ]
  },
  {
   "cell_type": "markdown",
   "metadata": {},
   "source": [
    "* People who survived either paid quite a bit for their ticket or they were young."
   ]
  },
  {
   "cell_type": "code",
   "execution_count": null,
   "metadata": {},
   "outputs": [],
   "source": [
    "# Find the oldest person who survived\n",
    "#Find the youngest person who survived\n",
    "#Find the average age of people who survived\n",
    "print('Oldest person is :',data['Age_mean'].max())\n",
    "print('Youngest person is:',data['Age_mean'].min())\n",
    "print('Average age is :',data['Age_mean'].mean())"
   ]
  },
  {
   "cell_type": "code",
   "execution_count": null,
   "metadata": {},
   "outputs": [],
   "source": [
    "corr=data.drop('Age', axis =1).corr()"
   ]
  },
  {
   "cell_type": "code",
   "execution_count": null,
   "metadata": {},
   "outputs": [],
   "source": [
    "# Find the correlatins and draw the heatmap"
   ]
  }
 ],
 "metadata": {
  "kernelspec": {
   "display_name": "Python 3",
   "language": "python",
   "name": "python3"
  },
  "language_info": {
   "codemirror_mode": {
    "name": "ipython",
    "version": 3
   },
   "file_extension": ".py",
   "mimetype": "text/x-python",
   "name": "python",
   "nbconvert_exporter": "python",
   "pygments_lexer": "ipython3",
   "version": "3.7.7"
  }
 },
 "nbformat": 4,
 "nbformat_minor": 4
}
