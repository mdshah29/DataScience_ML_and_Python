{
 "cells": [
  {
   "cell_type": "markdown",
   "metadata": {},
   "source": [
    "Given a dictionary:\n",
    "car = {\"brand\": \"Ford”, “model\": \"Mustang\",\"year\": 1964}\n",
    "\n",
    "1. Print the value of the \"model\" key of the car dictionary.\n"
   ]
  },
  {
   "cell_type": "code",
   "execution_count": 11,
   "metadata": {},
   "outputs": [
    {
     "name": "stdout",
     "output_type": "stream",
     "text": [
      "value of the model key =  Mustang\n"
     ]
    }
   ],
   "source": [
    "car = {\"brand\":\"Ford\",\"model\":\"Mustang\",\"year\":1964}\n",
    "print (\"value of the model key = \",car[\"model\"])"
   ]
  },
  {
   "cell_type": "markdown",
   "metadata": {},
   "source": [
    "\n",
    "2. Change the \"year\" value from 1964 to 2020.\n"
   ]
  },
  {
   "cell_type": "code",
   "execution_count": 12,
   "metadata": {},
   "outputs": [
    {
     "name": "stdout",
     "output_type": "stream",
     "text": [
      "new car dict value is  {'brand': 'Ford', 'model': 'Mustang', 'year': 2020}\n"
     ]
    }
   ],
   "source": [
    "car[\"year\"] = 2020\n",
    "print (\"new car dict value is \", car)"
   ]
  },
  {
   "cell_type": "markdown",
   "metadata": {},
   "source": [
    "\n",
    "3. Add the key/value pair \"colour”: \"red\" to the car dictionary"
   ]
  },
  {
   "cell_type": "code",
   "execution_count": 13,
   "metadata": {},
   "outputs": [
    {
     "name": "stdout",
     "output_type": "stream",
     "text": [
      "dict car after adding new item {'brand': 'Ford', 'model': 'Mustang', 'year': 2020, 'color': 'red'}\n"
     ]
    }
   ],
   "source": [
    "car[\"color\"] = \"red\"\n",
    "print (\"dict car after adding new item\",car)"
   ]
  },
  {
   "cell_type": "markdown",
   "metadata": {},
   "source": [
    "### Given a dictionary inventory :\n",
    "inventory = {'gold' : 500, 'pouch' : ['flint', 'twine', 'gemstone'],'backpack' : ['xylophone’, ‘dagger', 'bedroll’, ‘bread’, 'loaf']}\n",
    "4. Add a key to inventory called 'pocket' and Set the value of 'pocket' to be a list consisting of the strings 'seashell', strange berry', and 'lint'.\n"
   ]
  },
  {
   "cell_type": "code",
   "execution_count": 53,
   "metadata": {},
   "outputs": [
    {
     "name": "stdout",
     "output_type": "stream",
     "text": [
      "New inventory dict =  {'gold': 500, 'pouch': ['flint', 'twine', 'gemstone'], 'backpack': ['xylophone', 'dagger', 'bedroll', 'bread', 'loaf'], 'pocket': ['seashell', 'strange berry', 'lint']}\n"
     ]
    }
   ],
   "source": [
    "inventory = {'gold' : 500, 'pouch' : ['flint', 'twine', 'gemstone'],'backpack' : ['xylophone', 'dagger','bedroll', 'bread', 'loaf']}\n",
    "inventory[\"pocket\"] = ['seashell', 'strange berry','lint']\n",
    "print (\"New inventory dict = \",inventory)"
   ]
  },
  {
   "cell_type": "markdown",
   "metadata": {},
   "source": [
    "5. Sort the items in the list stored under the 'backpack' key.\n"
   ]
  },
  {
   "cell_type": "code",
   "execution_count": 54,
   "metadata": {},
   "outputs": [
    {
     "name": "stdout",
     "output_type": "stream",
     "text": [
      "Extracted list for backpack = ['xylophone', 'dagger', 'bedroll', 'bread', 'loaf']\n",
      "sorted list = ['bedroll', 'bread', 'dagger', 'loaf', 'xylophone']\n"
     ]
    }
   ],
   "source": [
    "l1 = inventory['backpack']\n",
    "print (\"Extracted list for backpack =\",l1)\n",
    "l1.sort()\n",
    "print (\"sorted list =\",l1)"
   ]
  },
  {
   "cell_type": "markdown",
   "metadata": {},
   "source": [
    "6. Remove 'dagger' from the list of items stored under the 'backpack' key.\n"
   ]
  },
  {
   "cell_type": "code",
   "execution_count": 55,
   "metadata": {},
   "outputs": [
    {
     "name": "stdout",
     "output_type": "stream",
     "text": [
      "list after removing dagger  ['bedroll', 'bread', 'loaf', 'xylophone']\n"
     ]
    }
   ],
   "source": [
    "l1.remove(\"dagger\")\n",
    "print (\"list after removing dagger \",l1)\n"
   ]
  },
  {
   "cell_type": "markdown",
   "metadata": {},
   "source": [
    "7. Add 50 to the number stored under the 'gold' key.\n"
   ]
  },
  {
   "cell_type": "code",
   "execution_count": 56,
   "metadata": {},
   "outputs": [
    {
     "name": "stdout",
     "output_type": "stream",
     "text": [
      "edited value of gold key is 550\n"
     ]
    }
   ],
   "source": [
    "inventory[\"gold\"]  = inventory[\"gold\"] + 50\n",
    "print (\"edited value of gold key is\", inventory[\"gold\"])"
   ]
  },
  {
   "cell_type": "markdown",
   "metadata": {},
   "source": [
    "8. Write a Python script to concatenate three dictionaries to create a new one. Make dictionaries yourself.\n"
   ]
  },
  {
   "cell_type": "code",
   "execution_count": 57,
   "metadata": {},
   "outputs": [
    {
     "name": "stdout",
     "output_type": "stream",
     "text": [
      "{1: 10, 2: 20, 3: 30, 4: 40, 5: 50, 6: 60}\n"
     ]
    }
   ],
   "source": [
    "dic1={1:10, 2:20}\n",
    "dic2={3:30, 4:40}\n",
    "dic3={5:50,6:60}\n",
    "dic4 = {}\n",
    "for d in (dic1, dic2, dic3): \n",
    "    dic4.update(d)\n",
    "print(dic4)"
   ]
  },
  {
   "cell_type": "markdown",
   "metadata": {},
   "source": [
    "9. Write a Python program to sum all the items in a dictionary.\n",
    "\n"
   ]
  },
  {
   "cell_type": "code",
   "execution_count": 58,
   "metadata": {},
   "outputs": [
    {
     "name": "stdout",
     "output_type": "stream",
     "text": [
      "sum of ll values in dict temp= 600\n"
     ]
    }
   ],
   "source": [
    "dict_temp = {\"md\":100,\"rv\":200,\"kd\":300}\n",
    "print (\"sum of ll values in dict temp=\",sum(dict_temp.values()))"
   ]
  },
  {
   "cell_type": "markdown",
   "metadata": {},
   "source": [
    "10. Write a Python script to check whether a given key already exists in a dictionary.\n",
    "d = {'foo': 100, 'bar': 200, 'baz': 300}\n"
   ]
  },
  {
   "cell_type": "code",
   "execution_count": 68,
   "metadata": {},
   "outputs": [
    {
     "name": "stdout",
     "output_type": "stream",
     "text": [
      "key already exist\n"
     ]
    }
   ],
   "source": [
    "# code to check key existance\n",
    "\n",
    "d = {'foo': 100, 'bar': 200, 'baz': 300}\n",
    "key = \"foo\"\n",
    "if key in d.keys():\n",
    "    print (\"key already exist\")\n",
    "else:\n",
    "    print (\"key does not exist\")"
   ]
  },
  {
   "cell_type": "markdown",
   "metadata": {},
   "source": [
    "11. What method call will delete the entry whose value is 200?\n"
   ]
  },
  {
   "cell_type": "code",
   "execution_count": 70,
   "metadata": {},
   "outputs": [
    {
     "name": "stdout",
     "output_type": "stream",
     "text": [
      "dict after removal {'foo': 100, 'baz': 300}\n"
     ]
    }
   ],
   "source": [
    "myDict = {key:val for key, val in d.items() if val != 200}\n",
    "print (\"dict after removal\",myDict)"
   ]
  },
  {
   "cell_type": "markdown",
   "metadata": {},
   "source": [
    "12. Write a Python program to check multiple keys exists in a dictionary."
   ]
  },
  {
   "cell_type": "code",
   "execution_count": 73,
   "metadata": {},
   "outputs": [
    {
     "name": "stdout",
     "output_type": "stream",
     "text": [
      "True\n",
      "False\n"
     ]
    }
   ],
   "source": [
    "print (d.keys() >= {\"foo\",\"bar\"})   #  checking multiple keys exist or not   positive scenario\n",
    "print (d.keys() >= {\"abc\",\"bar\"})   #  checking multiple keys exist or not   negative scenario"
   ]
  },
  {
   "cell_type": "code",
   "execution_count": null,
   "metadata": {},
   "outputs": [],
   "source": []
  },
  {
   "cell_type": "markdown",
   "metadata": {},
   "source": []
  }
 ],
 "metadata": {
  "kernelspec": {
   "display_name": "Python 3",
   "language": "python",
   "name": "python3"
  },
  "language_info": {
   "codemirror_mode": {
    "name": "ipython",
    "version": 3
   },
   "file_extension": ".py",
   "mimetype": "text/x-python",
   "name": "python",
   "nbconvert_exporter": "python",
   "pygments_lexer": "ipython3",
   "version": "3.7.4"
  }
 },
 "nbformat": 4,
 "nbformat_minor": 2
}
