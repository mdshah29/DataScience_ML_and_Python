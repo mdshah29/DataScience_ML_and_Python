{
 "cells": [
  {
   "cell_type": "markdown",
   "metadata": {},
   "source": [
    "1. Create a 5X2 integer array from a range between 100 to \n",
    "200 such that the difference between each element is 10\n"
   ]
  },
  {
   "cell_type": "code",
   "execution_count": 4,
   "metadata": {},
   "outputs": [
    {
     "name": "stdout",
     "output_type": "stream",
     "text": [
      "[[100 110]\n",
      " [120 130]\n",
      " [140 150]\n",
      " [160 170]\n",
      " [180 190]]\n"
     ]
    }
   ],
   "source": [
    "import numpy as np\n",
    "\n",
    "arr = np.arange(100,200,10).reshape(5,2)\n",
    "print(arr)"
   ]
  },
  {
   "cell_type": "markdown",
   "metadata": {},
   "source": [
    "2. Write a NumPy program to create a 3x3x3 array filled\n",
    "with arbitrary values and find the minimum and maximum\n",
    "values.\n"
   ]
  },
  {
   "cell_type": "code",
   "execution_count": 17,
   "metadata": {},
   "outputs": [
    {
     "name": "stdout",
     "output_type": "stream",
     "text": [
      "[[[0.44478782 0.62062896 0.69514519]\n",
      "  [0.07554583 0.24669357 0.7472799 ]\n",
      "  [0.8584613  0.70492215 0.53596586]]\n",
      "\n",
      " [[0.00184068 0.16151947 0.85065331]\n",
      "  [0.6109966  0.79450351 0.49142243]\n",
      "  [0.86770157 0.31991332 0.95815445]]\n",
      "\n",
      " [[0.57913537 0.94949822 0.48000235]\n",
      "  [0.95289486 0.14887887 0.69994676]\n",
      "  [0.36243171 0.37605537 0.47984684]]]\n",
      "Max from Arbitory values: 0.95815445120581\n",
      "Max from Arbitory values: 0.0018406803769207558\n"
     ]
    }
   ],
   "source": [
    "import random\n",
    "arbi = np.random.random((3,3,3))\n",
    "print(arbi)\n",
    "\n",
    "print (\"Max from Arbitory values:\",arbi.max())\n",
    "print (\"Max from Arbitory values:\",arbi.min())\n"
   ]
  },
  {
   "cell_type": "markdown",
   "metadata": {},
   "source": [
    "3. Write a NumPy program to create a 5x5 zero matrix\n",
    "with elements on the main diagonal equal to 1, 2, 3, 4, 5."
   ]
  },
  {
   "cell_type": "code",
   "execution_count": 18,
   "metadata": {},
   "outputs": [
    {
     "name": "stdout",
     "output_type": "stream",
     "text": [
      "[[1 0 0 0 0]\n",
      " [0 2 0 0 0]\n",
      " [0 0 3 0 0]\n",
      " [0 0 0 4 0]\n",
      " [0 0 0 0 5]]\n"
     ]
    }
   ],
   "source": [
    "x = np.diag([1, 2, 3, 4, 5])\n",
    "print(x)"
   ]
  },
  {
   "cell_type": "markdown",
   "metadata": {},
   "source": [
    "4. Given an array\n",
    "arr = np.array([0, 1, 2, 3, 4, 5, 6, 7, 8, 9\n",
    "i) Extract all odd numbers from arr\n",
    "ii) Replace all odd numbers in arr with -1\n"
   ]
  },
  {
   "cell_type": "code",
   "execution_count": 28,
   "metadata": {},
   "outputs": [
    {
     "name": "stdout",
     "output_type": "stream",
     "text": [
      "Odd values from the numpy array [1 3 5 7 9]\n",
      "Replaced -1 value for odd values in array [ 0 -1  2 -1  4 -1  6 -1  8 -1]\n"
     ]
    }
   ],
   "source": [
    "arr = np.array([0, 1, 2, 3, 4, 5, 6, 7, 8, 9])\n",
    "\n",
    "print (\"Odd values from the numpy array\",arr[arr%2 != 0])\n",
    "arr[arr%2 != 0] = -1\n",
    "print (\"Replaced -1 value for odd values in array\",arr)\n"
   ]
  },
  {
   "cell_type": "markdown",
   "metadata": {},
   "source": [
    "5.Write a NumPy program to create a 3x3 identity matrix,\n",
    "i.e. diagonal elements are 1,the rest are 0."
   ]
  },
  {
   "cell_type": "code",
   "execution_count": 32,
   "metadata": {},
   "outputs": [
    {
     "name": "stdout",
     "output_type": "stream",
     "text": [
      "Identity matrix: [[1 0 0]\n",
      " [0 1 0]\n",
      " [0 0 1]]\n"
     ]
    }
   ],
   "source": [
    "arr = np.eye(3,3,dtype=int)\n",
    "print (\"Identity matrix:\",arr)"
   ]
  },
  {
   "cell_type": "markdown",
   "metadata": {},
   "source": [
    "6. Write a NumPy program to convert an array to a float\n",
    "type."
   ]
  },
  {
   "cell_type": "code",
   "execution_count": 35,
   "metadata": {},
   "outputs": [
    {
     "data": {
      "text/plain": [
       "array([[1., 0., 0.],\n",
       "       [0., 1., 0.],\n",
       "       [0., 0., 1.]])"
      ]
     },
     "execution_count": 35,
     "metadata": {},
     "output_type": "execute_result"
    }
   ],
   "source": [
    "arr = arr.astype(float)\n",
    "arr"
   ]
  },
  {
   "cell_type": "markdown",
   "metadata": {},
   "source": [
    "7. Write a NumPy program to generate five random\n",
    "numbers from the normal distribution."
   ]
  },
  {
   "cell_type": "code",
   "execution_count": 36,
   "metadata": {},
   "outputs": [
    {
     "name": "stdout",
     "output_type": "stream",
     "text": [
      "[-1.31035266 -0.54488669 -2.20740174 -0.61354409  0.32123099]\n"
     ]
    }
   ],
   "source": [
    "x = np.random.normal(size=5)\n",
    "print(x)"
   ]
  },
  {
   "cell_type": "markdown",
   "metadata": {},
   "source": [
    "8. Following is the input NumPy array delete column two\n",
    "and insert following new column in its place.\n",
    "sampleArray=numpy.array([[34,43,73],[82,22,12],[53,94,\n",
    "66]])\n",
    "newColumn = numpy.array([[10,10,10]])"
   ]
  },
  {
   "cell_type": "code",
   "execution_count": 38,
   "metadata": {},
   "outputs": [
    {
     "data": {
      "text/plain": [
       "array([[34, 43, 73],\n",
       "       [10, 10, 10],\n",
       "       [53, 94, 66]])"
      ]
     },
     "execution_count": 38,
     "metadata": {},
     "output_type": "execute_result"
    }
   ],
   "source": [
    "sampleArray=np.array([[34,43,73],[82,22,12],[53,94, 66]])\n",
    "newColumn = np.array([[10,10,10]])\n",
    "\n",
    "sampleArray[1]= newColumn\n",
    "sampleArray"
   ]
  },
  {
   "cell_type": "markdown",
   "metadata": {},
   "source": [
    "9. Write a NumPy program to compute the multiplication\n",
    "of two given matrices.\n"
   ]
  },
  {
   "cell_type": "code",
   "execution_count": 59,
   "metadata": {},
   "outputs": [
    {
     "name": "stdout",
     "output_type": "stream",
     "text": [
      "x1 [[1 4 4]\n",
      " [1 1 3]\n",
      " [3 4 2]]\n",
      "x2 [[2 4 3]\n",
      " [1 4 3]\n",
      " [4 2 2]]\n",
      "multiplication [[ 2 16 12]\n",
      " [ 1  4  9]\n",
      " [12  8  4]]\n"
     ]
    }
   ],
   "source": [
    "x1 = np.random.randint(1,5,size=(3,3))\n",
    "x2 = np.random.randint(1,5,size=(3,3))\n",
    "x3 = x1 * x2\n",
    "print (\"x1\",x1)\n",
    "print (\"x2\",x2)\n",
    "print (\"multiplication\",x3)"
   ]
  },
  {
   "cell_type": "markdown",
   "metadata": {},
   "source": [
    "10. Write a NumPy program to create a random vector of\n",
    "size 10 and sort it.\n"
   ]
  },
  {
   "cell_type": "code",
   "execution_count": 65,
   "metadata": {},
   "outputs": [
    {
     "name": "stdout",
     "output_type": "stream",
     "text": [
      "[0.36110228 0.58779381 0.6487758  0.69020889 0.73379812 0.75969543\n",
      " 0.78347581 0.87418069 0.91800988 0.99661485]\n"
     ]
    }
   ],
   "source": [
    "vector = np.random.random(size=10)\n",
    "print (\"numpy sorted array\",np.sort(vector))"
   ]
  },
  {
   "cell_type": "markdown",
   "metadata": {},
   "source": [
    "11. Write a NumPy program to compute the covariance\n",
    "matrix of two arrays.\n"
   ]
  },
  {
   "cell_type": "code",
   "execution_count": 66,
   "metadata": {},
   "outputs": [
    {
     "name": "stdout",
     "output_type": "stream",
     "text": [
      "\n",
      "Original array1:\n",
      "[0 1 2]\n",
      "\n",
      "Original array1:\n",
      "[2 1 0]\n",
      "\n",
      "Covariance matrix of the said arrays:\n",
      " [[ 1. -1.]\n",
      " [-1.  1.]]\n"
     ]
    }
   ],
   "source": [
    "x = np.array([0, 1, 2])\n",
    "y = np.array([2, 1, 0])\n",
    "print(\"\\nOriginal array1:\")\n",
    "print(x)\n",
    "print(\"\\nOriginal array1:\")\n",
    "print(y)\n",
    "print(\"\\nCovariance matrix of the said arrays:\\n\",np.cov(x, y))"
   ]
  },
  {
   "cell_type": "markdown",
   "metadata": {},
   "source": [
    "12.Create a 4X2 integer array and Prints its :\n",
    "i)The shape of an array.\n",
    "ii) Array dimensions.\n",
    "iii) The Length of each element of the array in bytes"
   ]
  },
  {
   "cell_type": "code",
   "execution_count": 75,
   "metadata": {},
   "outputs": [
    {
     "name": "stdout",
     "output_type": "stream",
     "text": [
      "Shape of array (4, 2)\n",
      "array dimension 2\n",
      "size of each element 4\n"
     ]
    }
   ],
   "source": [
    "intarr = np.random.randint(0,100,size=(4,2))\n",
    "print (\"Shape of array\",intarr.shape)\n",
    "print (\"array dimension\",intarr.ndim)\n",
    "print (\"size of each element\",intarr.itemsize)"
   ]
  },
  {
   "cell_type": "markdown",
   "metadata": {},
   "source": [
    "13. Write a NumPy program to concatenate element-wise\n",
    "two arrays of string."
   ]
  },
  {
   "cell_type": "code",
   "execution_count": 83,
   "metadata": {},
   "outputs": [
    {
     "name": "stdout",
     "output_type": "stream",
     "text": [
      "matrix1 ['a' 'b' 'c']\n",
      "matrix2 ['d' 'e' 'f']\n",
      "concate matrix3 ['ad' 'be' 'cf']\n"
     ]
    }
   ],
   "source": [
    "a1 = np.array([\"a\",\"b\",\"c\"])\n",
    "a2 = np.array([\"d\",\"e\",\"f\"])\n",
    "print (\"matrix1\",a1)\n",
    "print (\"matrix2\",a2)\n",
    "a3 = np.char.add(a1, a2)\n",
    "print (\"concate matrix3\",a3)"
   ]
  },
  {
   "cell_type": "markdown",
   "metadata": {},
   "source": [
    "14. Write a NumPy program to capitalize the first letter,\n",
    "lowercase, uppercase, swapcase, title-case of all the\n",
    "elements of a given array."
   ]
  },
  {
   "cell_type": "code",
   "execution_count": 84,
   "metadata": {},
   "outputs": [
    {
     "name": "stdout",
     "output_type": "stream",
     "text": [
      "Original Array: ['python' 'PHP' 'java' 'C++']\n",
      "\n",
      "Capital:  ['Python' 'Php' 'Java' 'C++']\n",
      "Lower:  ['python' 'php' 'java' 'c++']\n",
      "Upper:  ['PYTHON' 'PHP' 'JAVA' 'C++']\n",
      "Swap:  ['PYTHON' 'php' 'JAVA' 'c++']\n",
      "Title:  ['Python' 'Php' 'Java' 'C++']\n"
     ]
    }
   ],
   "source": [
    "x = np.array(['python', 'PHP', 'java', 'C++'], dtype=np.str)\n",
    "print(\"Original Array:\", x)\n",
    "\n",
    "capital = np.char.capitalize(x)\n",
    "lower = np.char.lower(x)\n",
    "upper = np.char.upper(x)\n",
    "swap = np.char.swapcase(x)\n",
    "title = np.char.title(x)\n",
    "print(\"\\nCapital: \", capital)\n",
    "print(\"Lower: \", lower)\n",
    "print(\"Upper: \", upper)\n",
    "print(\"Swap: \", swap)\n",
    "print(\"Title: \", title)"
   ]
  },
  {
   "cell_type": "markdown",
   "metadata": {},
   "source": [
    "15. Write a NumPy program to convert a given array into a list."
   ]
  },
  {
   "cell_type": "code",
   "execution_count": 92,
   "metadata": {},
   "outputs": [
    {
     "name": "stdout",
     "output_type": "stream",
     "text": [
      "array as list from numpy: ['python', 'PHP', 'java', 'C++']\n"
     ]
    }
   ],
   "source": [
    "x = np.array(['python', 'PHP', 'java', 'C++'], dtype=np.str).tolist()\n",
    "print (\"array as list from numpy:\",x)"
   ]
  },
  {
   "cell_type": "markdown",
   "metadata": {},
   "source": [
    "16. Write a NumPy program to compute the sum of all\n",
    "elements, sum of each column and sum of each row of a\n",
    "given array."
   ]
  },
  {
   "cell_type": "code",
   "execution_count": 96,
   "metadata": {},
   "outputs": [
    {
     "name": "stdout",
     "output_type": "stream",
     "text": [
      "matrix [[4 1 1]\n",
      " [3 3 3]\n",
      " [4 4 4]]\n",
      "sum of all elements  27\n",
      "sum column wise [11  8  8]\n",
      "sum row wise [ 6  9 12]\n"
     ]
    }
   ],
   "source": [
    "x1 = np.random.randint(1,5,size=(3,3))\n",
    "print (\"matrix\",x1)\n",
    "print (\"sum of all elements \",np.sum(x1))\n",
    "print (\"sum column wise\",np.sum(x1,axis=0))\n",
    "print (\"sum row wise\",np.sum(x1,axis=1))"
   ]
  },
  {
   "cell_type": "markdown",
   "metadata": {},
   "source": [
    "17. Write a NumPy program to create a random 10x4\n",
    "array and extract the first five rows of the array and store\n",
    "them into a variable."
   ]
  },
  {
   "cell_type": "code",
   "execution_count": 100,
   "metadata": {},
   "outputs": [
    {
     "name": "stdout",
     "output_type": "stream",
     "text": [
      "matrix [[76 35  9 21]\n",
      " [70 38 20 76]\n",
      " [16 89 35 86]\n",
      " [43 31  1 81]\n",
      " [22 48 64 66]\n",
      " [ 3 95 95 47]\n",
      " [83 40 57 36]\n",
      " [10 53 23 94]\n",
      " [26  7  3 94]\n",
      " [ 8 13 91 71]]\n",
      "###########################\n",
      "list with first 5 rows [[76 35  9 21]\n",
      " [70 38 20 76]\n",
      " [16 89 35 86]\n",
      " [43 31  1 81]\n",
      " [22 48 64 66]\n",
      " [ 3 95 95 47]]\n"
     ]
    }
   ],
   "source": [
    "x1 = np.random.randint(1,100,size=(10,4))\n",
    "print (\"matrix\",x1)\n",
    "print (\"###########################\")\n",
    "listof_five = x1[:6]\n",
    "print (\"list with first 5 rows\",listof_five)"
   ]
  },
  {
   "cell_type": "markdown",
   "metadata": {},
   "source": [
    "18. Write a NumPy program to get the unique elements of\n",
    "a 1D and 2D array.\n"
   ]
  },
  {
   "cell_type": "code",
   "execution_count": 101,
   "metadata": {},
   "outputs": [
    {
     "name": "stdout",
     "output_type": "stream",
     "text": [
      "Original array:\n",
      "[10 10 20 20 30 30]\n",
      "Unique elements of the above array:\n",
      "[10 20 30]\n",
      "Original array:\n",
      "[[1 1]\n",
      " [2 3]]\n",
      "Unique elements of the above array:\n",
      "[1 2 3]\n"
     ]
    }
   ],
   "source": [
    "import numpy as np\n",
    "x = np.array([10, 10, 20, 20, 30, 30])\n",
    "print(\"Original array:\")\n",
    "print(x)\n",
    "print(\"Unique elements of the above array:\")\n",
    "print(np.unique(x))\n",
    "\n",
    "x = np.array([[1, 1], [2, 3]])\n",
    "print(\"Original array:\")\n",
    "print(x)\n",
    "print(\"Unique elements of the above array:\")\n",
    "print(np.unique(x))"
   ]
  },
  {
   "cell_type": "markdown",
   "metadata": {},
   "source": [
    "\n",
    "19. Write a NumPy program to get the unique elements of\n",
    "an array.\n",
    "arr= [-10 12.12 -0.2]\n"
   ]
  },
  {
   "cell_type": "code",
   "execution_count": 13,
   "metadata": {},
   "outputs": [
    {
     "name": "stdout",
     "output_type": "stream",
     "text": [
      "[-10.   12.   12.   -0.2]\n",
      "unique elem from given array [-10.   -0.2  12. ]\n"
     ]
    }
   ],
   "source": [
    "import numpy as np\n",
    "arr = [-10, 12., 12, -0.2]\n",
    "narr = np.array(arr)\n",
    "print (narr)\n",
    "print (\"unique elem from given array\",np.unique(narr))"
   ]
  },
  {
   "cell_type": "markdown",
   "metadata": {},
   "source": [
    "20. Write a NumPy program to save a given array to a text\n",
    "file and load it. You have to save and load files using\n",
    "numpy library ."
   ]
  },
  {
   "cell_type": "code",
   "execution_count": 23,
   "metadata": {},
   "outputs": [
    {
     "name": "stdout",
     "output_type": "stream",
     "text": [
      "random array [[97 26 77]\n",
      " [24 93 23]\n",
      " [43 59 15]]\n",
      "contents from file [[97. 26. 77.]\n",
      " [24. 93. 23.]\n",
      " [43. 59. 15.]]\n"
     ]
    }
   ],
   "source": [
    "import random\n",
    "arr = np.random.randint(0,100,size=(3,3))\n",
    "print (\"random array\",arr)\n",
    "header=\"'h1','h2','h3'\"\n",
    "np.savetxt('nptemp.txt',arr,header=header)\n",
    "fileout = np.loadtxt('nptemp.txt')\n",
    "print (\"contents from file\",fileout)"
   ]
  }
 ],
 "metadata": {
  "kernelspec": {
   "display_name": "Python 3",
   "language": "python",
   "name": "python3"
  },
  "language_info": {
   "codemirror_mode": {
    "name": "ipython",
    "version": 3
   },
   "file_extension": ".py",
   "mimetype": "text/x-python",
   "name": "python",
   "nbconvert_exporter": "python",
   "pygments_lexer": "ipython3",
   "version": "3.7.4"
  }
 },
 "nbformat": 4,
 "nbformat_minor": 2
}
