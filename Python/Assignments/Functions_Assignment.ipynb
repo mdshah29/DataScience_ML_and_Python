{
 "cells": [
  {
   "cell_type": "markdown",
   "metadata": {},
   "source": [
    "1. Write a Python function that accepts a string and calculates the number of uppercase letters and lowercase letters.\n"
   ]
  },
  {
   "cell_type": "code",
   "execution_count": 10,
   "metadata": {},
   "outputs": [
    {
     "name": "stdout",
     "output_type": "stream",
     "text": [
      "upper,lower alphabets in string are respectively (2, 8)\n"
     ]
    }
   ],
   "source": [
    "def caclalphbet(str):   \n",
    "    upper = sum(letter.isupper() for letter in str)\n",
    "    lower = sum(letter.islower() for letter in str)\n",
    "    return  upper,lower\n",
    "\n",
    "    \n",
    "str = \"Hello World\"\n",
    "print (\"upper,lower alphabets in string are respectively\",caclalphbet(str))\n",
    "    "
   ]
  },
  {
   "cell_type": "markdown",
   "metadata": {},
   "source": [
    "\n",
    "2. Write a Python function to create and print a list where the values are squares of numbers between 1 and 30 (both included).\n"
   ]
  },
  {
   "cell_type": "code",
   "execution_count": 15,
   "metadata": {},
   "outputs": [
    {
     "name": "stdout",
     "output_type": "stream",
     "text": [
      "[1, 4, 9, 16, 25, 36, 49, 64, 81, 100, 121, 144, 169, 196, 225, 256, 289, 324, 361, 400, 441, 484, 529, 576, 625, 676, 729, 784, 841, 900]\n"
     ]
    }
   ],
   "source": [
    "sqValues = lambda a,b: [i * i for i in range(a,b+1)]\n",
    "print (sqValues(1,30))"
   ]
  },
  {
   "cell_type": "markdown",
   "metadata": {},
   "source": [
    "\n",
    "3.Create a function that counts the number of elements within a list that are greater than 30.\n"
   ]
  },
  {
   "cell_type": "code",
   "execution_count": 2,
   "metadata": {},
   "outputs": [
    {
     "name": "stdout",
     "output_type": "stream",
     "text": [
      "No of elements greater than some value is: 25\n"
     ]
    }
   ],
   "source": [
    "# x will be the list\n",
    "# var will be e.g. 30\n",
    "\n",
    "def countGTVar(x,var):\n",
    "    return sum(1 for i in x if i > var)\n",
    "    \n",
    "l1 = [1, 4, 9, 16, 25, 36, 49, 64, 81, 100, 121, 144, 169, 196, 225, 256, 289, 324, 361, 400, 441, 484, 529, 576, 625, 676, 729, 784, 841, 900]\n",
    "\n",
    "print (\"No of elements greater than some value is:\",countGTVar(l1,30)) "
   ]
  },
  {
   "cell_type": "markdown",
   "metadata": {},
   "source": [
    "4. Write a Python function that takes a list and returns a new list with unique elements of the first list."
   ]
  },
  {
   "cell_type": "code",
   "execution_count": 5,
   "metadata": {},
   "outputs": [
    {
     "name": "stdout",
     "output_type": "stream",
     "text": [
      "Unique elem of the list is: [1, 2, 3, 4, 5, 6, 7]\n"
     ]
    }
   ],
   "source": [
    "def unique(l1):\n",
    "    t1 = set(l1)  # set removes the duplicates\n",
    "    return list(t1)\n",
    "\n",
    "x = [1,2,3,4,1,2,3,4,5,6,7]\n",
    "print (\"Unique elem of the list is:\", unique(x))"
   ]
  },
  {
   "cell_type": "markdown",
   "metadata": {},
   "source": [
    "5. Create a function showEmployee() in such a way that it should accept employee name, and it’s salary and display both, and if the salary is missing in function call it should show it as 9000\n"
   ]
  },
  {
   "cell_type": "code",
   "execution_count": 6,
   "metadata": {},
   "outputs": [
    {
     "name": "stdout",
     "output_type": "stream",
     "text": [
      "Employee name is Meerabo and his salary is 9000\n",
      "Employee name is David and his salary is 20000\n"
     ]
    }
   ],
   "source": [
    "def showEmployee(name,salary=9000):\n",
    "    print (\"Employee name is\",name,\"and his salary is\",salary)\n",
    "\n",
    "# call func\n",
    "\n",
    "showEmployee(\"Meerabo\")   #  Print if default salary if not passed as argument\n",
    "showEmployee(\"David\",20000) # Print salary passed via arguments"
   ]
  },
  {
   "cell_type": "markdown",
   "metadata": {},
   "source": [
    "\n",
    "6. Write a Python program to count the even, odd numbers in a given array of integers using Lambda. \n"
   ]
  },
  {
   "cell_type": "code",
   "execution_count": 11,
   "metadata": {},
   "outputs": [
    {
     "name": "stdout",
     "output_type": "stream",
     "text": [
      "For the given list [1, 2, 3, 5, 7, 8, 9, 10] Even and Odd numbers count are respectively 3 5\n"
     ]
    }
   ],
   "source": [
    "# filter as name suggest used for filteration \n",
    "\n",
    "l1 = [1, 2, 3, 5, 7, 8, 9, 10]\n",
    "\n",
    "even_count = len(list(filter(lambda x: (x%2 == 0),l1)))\n",
    "odd_count = len(list(filter(lambda x: (x%2 != 0),l1)))\n",
    "\n",
    "print (\"For the given list\",l1, \"Even and Odd numbers count are respectively\",even_count,odd_count)\n",
    "\n",
    "\n",
    "    "
   ]
  },
  {
   "cell_type": "markdown",
   "metadata": {},
   "source": [
    "\n",
    "7. Write a Python program to add two given lists using map and lambda\n"
   ]
  },
  {
   "cell_type": "code",
   "execution_count": 12,
   "metadata": {},
   "outputs": [
    {
     "name": "stdout",
     "output_type": "stream",
     "text": [
      "\n",
      "Result: after adding two list [5, 7, 9]\n"
     ]
    }
   ],
   "source": [
    "# Map:  it is used for manipulation  \n",
    "\n",
    "l1 = [1, 2, 3]\n",
    "l2 = [4, 5, 6]\n",
    "result = map(lambda x, y: x + y, l1, l2)\n",
    "print(\"\\nResult: after adding two list\",list(result))"
   ]
  },
  {
   "cell_type": "markdown",
   "metadata": {},
   "source": [
    "\n",
    "8. Write a Python program to rearrange positive and negative numbers in a given array using Lambda and filter\n"
   ]
  },
  {
   "cell_type": "code",
   "execution_count": 24,
   "metadata": {},
   "outputs": [
    {
     "name": "stdout",
     "output_type": "stream",
     "text": [
      "newlist after rearrangement [-23, -12, -30, -9, 15, 17, 56, 43]\n"
     ]
    }
   ],
   "source": [
    "l1 = [-23, -12, -30, 15, 17, 56, -9, 43]\n",
    "\n",
    "newlist = [i for i in l1 if i < 0] + [i for i in l1 if i > 0]\n",
    "\n",
    "print (\"newlist after rearrangement\",newlist)"
   ]
  },
  {
   "cell_type": "markdown",
   "metadata": {},
   "source": [
    "9. Write a Python program to filter a list of integers using Lambda.\n"
   ]
  },
  {
   "cell_type": "code",
   "execution_count": 25,
   "metadata": {},
   "outputs": [
    {
     "name": "stdout",
     "output_type": "stream",
     "text": [
      "even and odd integer from list of integers are: [2, 4, 6, 8, 10] [1, 3, 5, 7, 9]\n"
     ]
    }
   ],
   "source": [
    "n1 = [1, 2, 3, 4, 5, 6, 7, 8, 9, 10]\n",
    "even_nums = list(filter(lambda x: x%2 == 0, n1))\n",
    "odd_nums = list(filter(lambda x: x%2 != 0, n1))\n",
    "print(\"even and odd integer from list of integers are:\",even_nums,odd_nums)"
   ]
  },
  {
   "cell_type": "markdown",
   "metadata": {},
   "source": [
    "\n",
    "10. Write a Python program to find the intersection of two given arrays using Lambda and filter."
   ]
  },
  {
   "cell_type": "code",
   "execution_count": 27,
   "metadata": {},
   "outputs": [
    {
     "name": "stdout",
     "output_type": "stream",
     "text": [
      "intersection or common between n1 & n2 are [1, 2, 8, 9]\n"
     ]
    }
   ],
   "source": [
    "n1 = [1, 2, 3, 5, 7, 8, 9, 10]\n",
    "n2 = [1, 2, 4, 8, 9]\n",
    "\n",
    "intersection = list(filter(lambda x:x in n1,n2))\n",
    "print (\"intersection or common between n1 & n2 are\",intersection)\n"
   ]
  }
 ],
 "metadata": {
  "kernelspec": {
   "display_name": "Python 3",
   "language": "python",
   "name": "python3"
  },
  "language_info": {
   "codemirror_mode": {
    "name": "ipython",
    "version": 3
   },
   "file_extension": ".py",
   "mimetype": "text/x-python",
   "name": "python",
   "nbconvert_exporter": "python",
   "pygments_lexer": "ipython3",
   "version": "3.7.4"
  }
 },
 "nbformat": 4,
 "nbformat_minor": 2
}
