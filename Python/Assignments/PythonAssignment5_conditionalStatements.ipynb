{
 "cells": [
  {
   "cell_type": "markdown",
   "metadata": {},
   "source": [
    "### 1. Take two integer values from the user and print greatest among them.\n"
   ]
  },
  {
   "cell_type": "code",
   "execution_count": 3,
   "metadata": {},
   "outputs": [
    {
     "name": "stdout",
     "output_type": "stream",
     "text": [
      "Enter num1:5\n",
      "Enter num2:6\n",
      "Gretest number is: 6\n"
     ]
    }
   ],
   "source": [
    "int1 = int(input(\"Enter num1:\"))\n",
    "int2 = int(input(\"Enter num2:\"))\n",
    "\n",
    "if int1 > int2:\n",
    "    print (\"Gretest number is:\",int1)\n",
    "else:\n",
    "    print (\"Gretest number is:\",int2)\n"
   ]
  },
  {
   "cell_type": "markdown",
   "metadata": {},
   "source": [
    "### 2. Write a program that reads an integer from the user. Then your program should display a message indicating whether the integer is even or odd.\n"
   ]
  },
  {
   "cell_type": "code",
   "execution_count": 9,
   "metadata": {},
   "outputs": [
    {
     "name": "stdout",
     "output_type": "stream",
     "text": [
      "Enter num1:5\n",
      "Given number is odd number 5\n"
     ]
    }
   ],
   "source": [
    "num = int(input(\"Enter num1:\"))\n",
    "\n",
    "if num == 0:\n",
    "    print (\"Number is neither a even nor a odd\")\n",
    "elif num % 2 == 0:\n",
    "    print (\"Given number is even number\",num)\n",
    "else:\n",
    "    print (\"Given number is odd number\",num)\n"
   ]
  },
  {
   "cell_type": "markdown",
   "metadata": {},
   "source": [
    "\n",
    "### 3. Create a program that reads a letter of the alphabet from the user. If the user enters a, e, i, o or u then your program should display a message indicating that the entered letter is a vowel. If the user enters y then your  Program should display a message indicating that sometimes y is a vowel, and sometimes y is a consonant. Otherwise your program should display a message indicating that the letter is a consonant."
   ]
  },
  {
   "cell_type": "code",
   "execution_count": 13,
   "metadata": {},
   "outputs": [
    {
     "name": "stdout",
     "output_type": "stream",
     "text": [
      "Enter letter of the alphabet:u\n",
      "Alphabet entered is Vowel u\n"
     ]
    }
   ],
   "source": [
    "letter = input(\"Enter letter of the alphabet:\")\n",
    "if (len(letter) > 1):\n",
    "    print (\"please enter only one alphabet\")\n",
    "elif (letter.lower() in 'aeiou'):\n",
    "    print (\"Alphabet entered is Vowel\",letter)\n",
    "elif (letter.lower() in 'y'):\n",
    "    print (\"sometimes y is a vowel, and sometimes y is a consonant\",letter)\n",
    "else:\n",
    "    print (\"Alphabet entered is Consonent\",letter)"
   ]
  },
  {
   "cell_type": "markdown",
   "metadata": {},
   "source": [
    "\n",
    "### 4. A triangle can be classified based on the lengths of its sides as equilateral, isosceles or scalene. All three sides of an equilateral triangle have the same length. An isosceles triangle has two sides that are the same length, and a third side that is a different length. If all of the sides have different lengths then the triangle is scalene. Write a program that reads the lengths of the three sides of a triangle from the user. Then display a message that states the triangle’s type.\n"
   ]
  },
  {
   "cell_type": "code",
   "execution_count": 37,
   "metadata": {},
   "outputs": [
    {
     "name": "stdout",
     "output_type": "stream",
     "text": [
      "Enter triangles three sides length comma seperated:2,2,2\n",
      "A triangle is equilateral\n"
     ]
    }
   ],
   "source": [
    "[a,b,c] = input(\"Enter triangles three sides length comma seperated:\").split(',')\n",
    "[a,b,c] = [int(i) for i in [a,b,c]]\n",
    "\n",
    "if a == b == c:\n",
    "    print (\"A triangle is equilateral\")\n",
    "else:\n",
    "        if (a == b) or (b == c) or (a == c):\n",
    "            print (\"A triangle is isosceles\")\n",
    "        else:\n",
    "            print (\"A triangle is scalene\")"
   ]
  },
  {
   "cell_type": "markdown",
   "metadata": {},
   "source": [
    "\n",
    "### 5. Write a program that determines the name of a shape from its number of sides. Read the number of sides from the user and then report the appropriate name as part of a meaningful message. Your program should support shapes with anywhere from 3 up to (and including) 10 sides. If a number of sides outside of this range is entered then your program should display an appropriate error message.\n"
   ]
  },
  {
   "cell_type": "code",
   "execution_count": 40,
   "metadata": {},
   "outputs": [
    {
     "name": "stdout",
     "output_type": "stream",
     "text": [
      "Enter no of sides1\n",
      "No appropriate shape could found for entered sides number:\n"
     ]
    }
   ],
   "source": [
    "shape_dict_by_no_of_sides = {'3':'Triangle','4':'Square','5':'Pentagon','6':'Hexagon','7':'Heptagon','8':'Octagon','9':'Nonagon','10':'dodecagon'}\n",
    "sides = input(\"Enter no of sides\")\n",
    "\n",
    "if sides in shape_dict_by_no_of_sides:\n",
    "    print (\"shape for entered sides is:\",shape_dict_by_no_of_sides[sides])\n",
    "else:\n",
    "    print (\"No appropriate shape could found for entered sides number:\")"
   ]
  },
  {
   "cell_type": "markdown",
   "metadata": {},
   "source": [
    "### 6. A shop will give a discount of 10% if the cost of the purchased quantity is more than 1000. Ask the user for quantity, suppose, one unit will cost 100. Judge and print total cost for user."
   ]
  },
  {
   "cell_type": "code",
   "execution_count": 4,
   "metadata": {},
   "outputs": [
    {
     "name": "stdout",
     "output_type": "stream",
     "text": [
      "Enter no of Quantity purchased: 11\n",
      "User needs to pay  990.0 for hist purchase of  11 Quantity ,got 10% discount\n"
     ]
    }
   ],
   "source": [
    "Quantity = int(input (\"Enter no of Quantity purchased: \"))\n",
    "cost = 100 * Quantity\n",
    "\n",
    "if cost > 1000:\n",
    "    discount = cost*0.10\n",
    "    total_cost = cost - discount\n",
    "    print (\"User needs to pay \",total_cost,\"for hist purchase of \",Quantity,\"Quantity\",\",got 10% discount\")\n",
    "else:    \n",
    "    print (\"User needs to pay \",cost,\"for hist purchase of \",Quantity,\"Quantity\",\",no discount for order below 1000\")\n",
    "\n"
   ]
  },
  {
   "cell_type": "markdown",
   "metadata": {},
   "source": [
    "\n",
    "### 7. Take input of age of 3 people by user and determine oldest and youngest among them.\n"
   ]
  },
  {
   "cell_type": "code",
   "execution_count": 8,
   "metadata": {},
   "outputs": [
    {
     "name": "stdout",
     "output_type": "stream",
     "text": [
      "Enter age for 3 users comma seperated:6,5,7\n",
      "youngset and oldest age are 5 and 7 respectively\n"
     ]
    }
   ],
   "source": [
    "[age1,age2,age3] = input(\"Enter age for 3 users comma seperated:\").split(',')\n",
    "[age1,age2,age3] = [int(i) for i in [age1,age2,age3]]\n",
    "\n",
    "oldest,youngest = max([age1,age2,age3]),min([age1,age2,age3])\n",
    "\n",
    "print (\"youngset and oldest age are {} and {} respectively\".format(youngest,oldest))"
   ]
  },
  {
   "cell_type": "markdown",
   "metadata": {},
   "source": [
    "### 8. A company decided to give a bonus of 5% to an employee if his/her year of service is more than 5 years. Ask user for their salary and year of service and print the net bonus amount."
   ]
  },
  {
   "cell_type": "code",
   "execution_count": 14,
   "metadata": {},
   "outputs": [
    {
     "name": "stdout",
     "output_type": "stream",
     "text": [
      "Enter employee salary: 5000\n",
      "Enter employee year of service: 2014\n",
      "Bonus for employee is:  250.0\n"
     ]
    }
   ],
   "source": [
    "import datetime\n",
    "now = datetime.datetime.now()\n",
    "salary = int(input (\"Enter employee salary: \"))\n",
    "year_of_service = int(input (\"Enter employee year of service: \"))\n",
    "\n",
    "employment_years = now.year - year_of_service\n",
    "\n",
    "if employment_years > 5:\n",
    "    bonus = salary * 0.05\n",
    "    newsalary = salary + bonus\n",
    "    print (\"Bonus for employee is: \",bonus)\n",
    "else:    \n",
    "    print (\"employment is less than or equal to 5 years, not eligible for Bonus\")"
   ]
  },
  {
   "cell_type": "markdown",
   "metadata": {},
   "source": [
    "\n",
    "### 9. Write a program to check if a year is leap year or not. If a year is divisible by 4 then it is leap year but if the year is a century year like 2000, 1900, 2100 then it must be divisible by 400."
   ]
  },
  {
   "cell_type": "code",
   "execution_count": 17,
   "metadata": {},
   "outputs": [
    {
     "name": "stdout",
     "output_type": "stream",
     "text": [
      "Enter year to check it is leap year or not: 2100\n",
      "Not a Leap Year\n"
     ]
    }
   ],
   "source": [
    "# Python program to check leap year or not\n",
    "\n",
    "year = int(input (\"Enter year to check it is leap year or not: \"))\n",
    "if (year % 4) == 0:\n",
    "    if (year % 100) == 0:\n",
    "        if (year % 400) == 0:\n",
    "            print(\"Leap Year\")\n",
    "        else:\n",
    "            print(\"Not a Leap Year\")\n",
    "    else:\n",
    "         print(\"Leap Year\")\n",
    "else:\n",
    "    print(\"Not a Leap Year\")\n",
    " "
   ]
  },
  {
   "cell_type": "markdown",
   "metadata": {},
   "source": [
    "\n",
    "### 10. Accept d1 and d2 as input. First, check to see that they are in the proper range for dice. If not, print a message. Otherwise, determine the outcome if this is the come out roll. If the sum is 7 or 11, print the winner. If the sum is 2, 3 or 12, print loser. Otherwise print the point.\n"
   ]
  },
  {
   "cell_type": "code",
   "execution_count": 23,
   "metadata": {},
   "outputs": [
    {
     "name": "stdout",
     "output_type": "stream",
     "text": [
      "Enter num1:7\n",
      "Enter num2:8\n",
      "Please Enter proper value for d1 and d2: out of range\n"
     ]
    }
   ],
   "source": [
    "d1 = int(input(\"Enter num1:\"))\n",
    "d2 = int(input(\"Enter num2:\"))\n",
    "\n",
    "if d1 in range(1,7):\n",
    "    if d2 in range(1,7):\n",
    "        sm = d1 + d2\n",
    "        if sm == 7 or sm == 11:\n",
    "            print (\"Winner\")\n",
    "        elif sm == 2 or sm == 3 or sm ==12:\n",
    "            print (\"loser\")\n",
    "        else:\n",
    "            print (\"Points equals to:\",sm)\n",
    "    else:\n",
    "        print (\"Please Enter proper value for d1 and d2: out of range\")\n",
    "else:\n",
    "    print (\"Please Enter proper value for d1 and d2: out of range\")"
   ]
  },
  {
   "cell_type": "markdown",
   "metadata": {},
   "source": [
    "\n",
    "### 11. Write a python program to display the number of days in a month name from the given list of months or month number entered by user.\n"
   ]
  },
  {
   "cell_type": "code",
   "execution_count": 30,
   "metadata": {},
   "outputs": [
    {
     "name": "stdout",
     "output_type": "stream",
     "text": [
      "Enter Month number:2\n",
      "Enter year to check it is leap year or not: 1900\n",
      "Days for the entered month number 2 is: 28\n"
     ]
    }
   ],
   "source": [
    "mon_days = {'1':'31','2':'28','3':'31','4':'30','5':'31','6':'30','7':'31','8':'31','9':'30','10':'31','11':'30','12':'31'}\n",
    "month_number = input(\"Enter Month number:\")\n",
    "\n",
    "if month_number == '2':\n",
    "    year = int(input (\"Enter year to check it is leap year or not: \"))\n",
    "    if (year % 4) == 0:\n",
    "        if (year % 100) == 0:\n",
    "            if (year % 400) == 0:\n",
    "                print (\"Days for the entered month number\",month_number, \"is:\",int(mon_days[month_number])+1)\n",
    "            else:\n",
    "                print (\"Days for the entered month number\",month_number, \"is:\",mon_days[month_number])\n",
    "        else:\n",
    "             print (\"Days for the entered month number\",month_number, \"is:\",int(mon_days[month_number])+1)\n",
    "    else:\n",
    "        print (\"Days for the entered month number\",month_number, \"is:\",mon_days[month_number])\n",
    "else:\n",
    "    print (\"Days for the entered month number\",month_number, \"is:\",mon_days[month_number])\n"
   ]
  },
  {
   "cell_type": "markdown",
   "metadata": {},
   "source": [
    "### 12. Write a Python program to get next day of a given date."
   ]
  },
  {
   "cell_type": "code",
   "execution_count": 3,
   "metadata": {},
   "outputs": [
    {
     "name": "stdout",
     "output_type": "stream",
     "text": [
      "Enter date for which next date required in yyyy-mm-dd format:2020-11-21\n",
      "The next date is [yyyy-mm-dd] 2020-11-22.\n"
     ]
    }
   ],
   "source": [
    "date = input(\"Enter date for which next date required in yyyy-mm-dd format:\")\n",
    "year = int(date[0:4])\n",
    "month = int(date[5:7])\n",
    "day = int(date[8:10])\n",
    "\n",
    "if (year % 400 == 0):\n",
    "    leap_year = True\n",
    "elif (year % 100 == 0):\n",
    "    leap_year = False\n",
    "elif (year % 4 == 0):\n",
    "    leap_year = True\n",
    "else:\n",
    "    leap_year = False\n",
    "\n",
    "if month in (1, 3, 5, 7, 8, 10, 12):\n",
    "    month_length = 31\n",
    "elif month == 2:\n",
    "    if leap_year:\n",
    "        month_length = 29\n",
    "    else:\n",
    "        month_length = 28\n",
    "else:\n",
    "    month_length = 30\n",
    "\n",
    "\n",
    "if day < month_length:\n",
    "    day += 1\n",
    "else:\n",
    "    day = 1\n",
    "    if month == 12:\n",
    "        month = 1\n",
    "        year += 1\n",
    "    else:\n",
    "        month += 1\n",
    "print(\"The next date is [yyyy-mm-dd] %d-%d-%d.\" % (year, month, day))"
   ]
  }
 ],
 "metadata": {
  "kernelspec": {
   "display_name": "Python 3",
   "language": "python",
   "name": "python3"
  },
  "language_info": {
   "codemirror_mode": {
    "name": "ipython",
    "version": 3
   },
   "file_extension": ".py",
   "mimetype": "text/x-python",
   "name": "python",
   "nbconvert_exporter": "python",
   "pygments_lexer": "ipython3",
   "version": "3.7.4"
  }
 },
 "nbformat": 4,
 "nbformat_minor": 2
}
