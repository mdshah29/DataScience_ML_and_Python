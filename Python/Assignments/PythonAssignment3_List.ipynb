{
 "cells": [
  {
   "cell_type": "markdown",
   "metadata": {},
   "source": [
    "### 1. City = [‘Gurgaon’, ’Mumbai’, ’Bangalore’]\n",
    "i) Print the second item from the list.\n",
    "\n",
    "ii) Change the value from \"Gurgaon\" to \"Kerala\"\n",
    "\n",
    "iii) Remove the last element of the list.\n",
    "\n",
    "\n"
   ]
  },
  {
   "cell_type": "code",
   "execution_count": 30,
   "metadata": {},
   "outputs": [
    {
     "name": "stdout",
     "output_type": "stream",
     "text": [
      "Second item from list =  Mumbai\n",
      "Change the value from Gurgaon to Kerala =  ['Kerala', 'Mumbai', 'Banglore']\n",
      "Remove the last element of the list =  ['Kerala', 'Mumbai']\n"
     ]
    }
   ],
   "source": [
    "City = ['Gurgaon','Mumbai','Banglore']\n",
    "#1\n",
    "print (\"Second item from list = \",City[1])\n",
    "#2\n",
    "City[0] = \"Kerala\"\n",
    "print (\"Change the value from Gurgaon to Kerala = \",City)\n",
    "#3\n",
    "City.pop()\n",
    "print (\"Remove the last element of the list = \",City)\n"
   ]
  },
  {
   "cell_type": "markdown",
   "metadata": {},
   "source": [
    "### 2. Use negative indexing to print the last item in the list. Make a list by yourself.\n",
    "\n"
   ]
  },
  {
   "cell_type": "code",
   "execution_count": 31,
   "metadata": {},
   "outputs": [
    {
     "name": "stdout",
     "output_type": "stream",
     "text": [
      "last elemt of list by using negative indexing = 9\n"
     ]
    }
   ],
   "source": [
    "temp = [1,2,3,4,5,6,7,8,9]\n",
    "print (\"last elemt of list by using negative indexing =\",temp[-1])"
   ]
  },
  {
   "cell_type": "markdown",
   "metadata": {},
   "source": [
    "### 3. Use a range of indexes to print the third, fourth, and fifth item in the list. Make a list by yourself.\n",
    "\n"
   ]
  },
  {
   "cell_type": "code",
   "execution_count": 32,
   "metadata": {},
   "outputs": [
    {
     "name": "stdout",
     "output_type": "stream",
     "text": [
      "print the third, fourth, and fifth item in the list [3, 4, 5]\n"
     ]
    }
   ],
   "source": [
    "# using above list only\n",
    "print (\"print the third, fourth, and fifth item in the list\",temp[2:5])"
   ]
  },
  {
   "cell_type": "markdown",
   "metadata": {},
   "source": [
    "### 4. Remove the last element from the city list\n",
    "\n"
   ]
  },
  {
   "cell_type": "code",
   "execution_count": 33,
   "metadata": {},
   "outputs": [
    {
     "name": "stdout",
     "output_type": "stream",
     "text": [
      "City after Removing the last element =  ['Kerala']\n"
     ]
    }
   ],
   "source": [
    "del City[-1]\n",
    "print (\"City after Removing the last element = \",City)"
   ]
  },
  {
   "cell_type": "markdown",
   "metadata": {},
   "source": [
    "### 5. fruits=[‘apple’,’lichi’,’guava’,’cherry’,’mango’,’watermelon’,’banana’]\n",
    "\n",
    "i) Add \"orange\" at the end of the above list.\n",
    "\n",
    "ii) Add \"lemon\" as the second item in the fruits list\n",
    "\n"
   ]
  },
  {
   "cell_type": "code",
   "execution_count": 40,
   "metadata": {},
   "outputs": [
    {
     "name": "stdout",
     "output_type": "stream",
     "text": [
      "added orange at last item in fruits ['apple', 'lichi', 'guava', 'cherry', 'mango', 'watermelon', 'banana', 'orange']\n",
      "inserted lemon at 2nd position ['apple', 'lemon', 'lichi', 'guava', 'cherry', 'mango', 'watermelon', 'banana', 'orange']\n"
     ]
    }
   ],
   "source": [
    "fruits=['apple','lichi','guava','cherry','mango','watermelon','banana']\n",
    "#1\n",
    "fruits.append(\"orange\")\n",
    "print (\"added orange at last item in fruits\",fruits)\n",
    "fruits.insert(1,\"lemon\")\n",
    "print (\"inserted lemon at 2nd position\",fruits)"
   ]
  },
  {
   "cell_type": "markdown",
   "metadata": {},
   "source": [
    "### 6. Remove ‘cherry’ from the fruit list given above.\n",
    "\n"
   ]
  },
  {
   "cell_type": "code",
   "execution_count": 41,
   "metadata": {},
   "outputs": [
    {
     "name": "stdout",
     "output_type": "stream",
     "text": [
      "removed cherry from fruit list ['apple', 'lemon', 'lichi', 'guava', 'mango', 'watermelon', 'banana', 'orange']\n"
     ]
    }
   ],
   "source": [
    "fruits.remove(\"cherry\")\n",
    "print (\"removed cherry from fruit list\",fruits)"
   ]
  },
  {
   "cell_type": "markdown",
   "metadata": {},
   "source": [
    "### 7. Write the python program to let the user input a list of numbers and print the list in descending order.\n",
    "\n"
   ]
  },
  {
   "cell_type": "code",
   "execution_count": 54,
   "metadata": {},
   "outputs": [
    {
     "name": "stdout",
     "output_type": "stream",
     "text": [
      "Enter list of numbers comma seperated = 1,2,3,4,5,6\n",
      "list of numbers in desending order =  [6, 5, 4, 3, 2, 1]\n"
     ]
    }
   ],
   "source": [
    "userdefined_list = input(\"Enter list of numbers comma seperated = \")\n",
    "userdefined_list = list(map(int,userdefined_list.split(',')))\n",
    "print (\"list of numbers in desending order = \",userdefined_list[::-1])\n"
   ]
  },
  {
   "cell_type": "markdown",
   "metadata": {},
   "source": [
    "### 8. Write the python program to let the user input two lists and combine both the lists.\n",
    "\n"
   ]
  },
  {
   "cell_type": "code",
   "execution_count": 59,
   "metadata": {},
   "outputs": [
    {
     "name": "stdout",
     "output_type": "stream",
     "text": [
      "Enter number of elements : 5\n",
      "\n",
      "Enter the numbers comma seperated : 1,2,3,4,5\n",
      "Enter number of elements : 4\n",
      "\n",
      "Enter the numbers comma seperated: 1,2,3,4,5,6\n",
      "\n",
      "List l1 & l2 are -  [1, 2, 3, 4, 5] [1, 2, 3, 4]\n",
      "\n",
      "combined List -  [1, 2, 3, 4, 5, 1, 2, 3, 4]\n"
     ]
    }
   ],
   "source": [
    "# number of elements \n",
    "n1 = int(input(\"Enter number of elements : \")) \n",
    "  \n",
    "# Below line read inputs from user using map() function  \n",
    "l1 = list(map(int,input(\"\\nEnter the numbers comma seperated : \").strip().split(',')))[:n1] \n",
    "\n",
    "# number of elements \n",
    "n2 = int(input(\"Enter number of elements : \")) \n",
    "  \n",
    "# Below line read inputs from user using map() function  \n",
    "l2 = list(map(int,input(\"\\nEnter the numbers comma seperated: \").strip().split(',')))[:n2] \n",
    "\n",
    "print(\"\\nList l1 & l2 are - \", l1, l2)\n",
    "print(\"\\ncombined List - \", l1+l2)\n",
    "\n"
   ]
  },
  {
   "cell_type": "markdown",
   "metadata": {},
   "source": [
    "### 9. List = [10, 45, 78, 11, 9, 23]. Shuffle this list."
   ]
  },
  {
   "cell_type": "code",
   "execution_count": 68,
   "metadata": {},
   "outputs": [
    {
     "name": "stdout",
     "output_type": "stream",
     "text": [
      "shuffled list is:  [11, 23, 45, 9, 10, 78]\n"
     ]
    }
   ],
   "source": [
    "import random\n",
    "sl1 = [10, 45, 78, 11, 9, 23]\n",
    "random.shuffle(sl1)\n",
    "print (\"shuffled list is: \",sl1)\n"
   ]
  },
  {
   "cell_type": "markdown",
   "metadata": {},
   "source": [
    "### 10. x = [10, [3.141, 20, [30, 'baz', 2.718]], 'foo']\n",
    "\n",
    "i) What is the expression that returns the 'z' in 'baz'?\n",
    "\n",
    "ii) What expression returns the list ['baz', 2.718]?\n",
    "\n"
   ]
  },
  {
   "cell_type": "code",
   "execution_count": 73,
   "metadata": {},
   "outputs": [
    {
     "name": "stdout",
     "output_type": "stream",
     "text": [
      "expression that returns the z in baz = z\n",
      "expression that returns the list baz & 2.718 = ['baz', 2.718]\n"
     ]
    }
   ],
   "source": [
    "x = [10, [3.141, 20, [30, 'baz', 2.718]], 'foo']\n",
    "#1\n",
    "print (\"expression that returns the z in baz =\",x[1][2][1][-1])\n",
    "#2\n",
    "print (\"expression that returns the list baz & 2.718 =\",x[1][2][1:])"
   ]
  },
  {
   "cell_type": "markdown",
   "metadata": {},
   "source": [
    "### 11. Extract element 20 from the above list.\n",
    "\n"
   ]
  },
  {
   "cell_type": "code",
   "execution_count": 74,
   "metadata": {},
   "outputs": [
    {
     "name": "stdout",
     "output_type": "stream",
     "text": [
      "Extract 20 from above list expression =  20\n"
     ]
    }
   ],
   "source": [
    "print (\"Extract 20 from above list expression = \",x[1][1])"
   ]
  },
  {
   "cell_type": "markdown",
   "metadata": {},
   "source": [
    "### 12. You have a list a = [1, 2, 7, 8]\n",
    "\n",
    "Write a Python statement using slice assignment that will fill in the missing values so that a equals \n",
    "\n",
    "[1, 2, 3, 4, 5, 6, 7, 8]"
   ]
  },
  {
   "cell_type": "code",
   "execution_count": 81,
   "metadata": {},
   "outputs": [
    {
     "name": "stdout",
     "output_type": "stream",
     "text": [
      "missing value additin using slicing [1, 2, 3, 4, 5, 6, 7, 8]\n"
     ]
    }
   ],
   "source": [
    "a = [1, 2, 7, 8]\n",
    "missing_list = [3, 4, 5, 6]\n",
    "a[2:2] = missing_list\n",
    "print (\"missing value additin using slicing\",a)"
   ]
  }
 ],
 "metadata": {
  "kernelspec": {
   "display_name": "Python 3",
   "language": "python",
   "name": "python3"
  },
  "language_info": {
   "codemirror_mode": {
    "name": "ipython",
    "version": 3
   },
   "file_extension": ".py",
   "mimetype": "text/x-python",
   "name": "python",
   "nbconvert_exporter": "python",
   "pygments_lexer": "ipython3",
   "version": "3.7.4"
  }
 },
 "nbformat": 4,
 "nbformat_minor": 2
}
