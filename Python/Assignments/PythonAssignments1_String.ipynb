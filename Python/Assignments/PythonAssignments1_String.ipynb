{
 "cells": [
  {
   "cell_type": "markdown",
   "metadata": {},
   "source": [
    "### Ans to Q-1: Define different types of variables (integer, boolean,string, float, complex) and print their values and their types"
   ]
  },
  {
   "cell_type": "code",
   "execution_count": 12,
   "metadata": {},
   "outputs": [
    {
     "name": "stdout",
     "output_type": "stream",
     "text": [
      "The value of variabe is: 100 and type of variable is <class 'int'>\n",
      "The value of variabe is: True and type of variable is <class 'bool'>\n",
      "The value of variabe is: My Name is Meerabo and type of variable is <class 'str'>\n",
      "The value of variabe is: 99.99 and type of variable is <class 'float'>\n",
      "The value of variabe is: (1+1j) and type of variable is <class 'complex'>\n"
     ]
    }
   ],
   "source": [
    "# Integer\n",
    "varint = 100\n",
    "print (\"The value of variabe is:\",varint,\"and type of variable is\", type(varint))\n",
    "\n",
    "# Boolean\n",
    "varbool = True\n",
    "print (\"The value of variabe is:\",varbool,\"and type of variable is\", type(varbool))\n",
    "\n",
    "\n",
    "# String\n",
    "varstr = \"My Name is Meerabo\"\n",
    "print (\"The value of variabe is:\",varstr,\"and type of variable is\", type(varstr))\n",
    "\n",
    "\n",
    "# Float\n",
    "varfloat = 99.99\n",
    "print (\"The value of variabe is:\",varfloat,\"and type of variable is\", type(varfloat))\n",
    "\n",
    "\n",
    "# Complex\n",
    "varcomplex = 1 + 1j\n",
    "print (\"The value of variabe is:\",varcomplex,\"and type of variable is\", type(varcomplex))\n",
    "\n"
   ]
  },
  {
   "cell_type": "markdown",
   "metadata": {},
   "source": [
    "### Ans to Q-2: In the above question convert float variable into integer type and integer variable into str type."
   ]
  },
  {
   "cell_type": "code",
   "execution_count": 18,
   "metadata": {},
   "outputs": [
    {
     "name": "stdout",
     "output_type": "stream",
     "text": [
      "Int converted value of float variable is= 99\n",
      "str converted value of int variable is= 100 <class 'str'>\n"
     ]
    }
   ],
   "source": [
    "var1 = int(varfloat)\n",
    "print (\"Int converted value of float variable is=\",var1)\n",
    "\n",
    "var2 = str(varint)\n",
    "print (\"str converted value of int variable is=\",var2,type(var2))\n"
   ]
  },
  {
   "cell_type": "markdown",
   "metadata": {},
   "source": [
    "### Ans to Q-3: What will you get converting “abc” into boolean ?"
   ]
  },
  {
   "cell_type": "code",
   "execution_count": 21,
   "metadata": {},
   "outputs": [
    {
     "name": "stdout",
     "output_type": "stream",
     "text": [
      "we will get True by converting abc in boolean\n",
      "True\n"
     ]
    }
   ],
   "source": [
    "var3 = bool(\"abc\")\n",
    "print (\"we will get\",var3,\"by converting abc in boolean\")\n",
    "print(var3)"
   ]
  },
  {
   "cell_type": "markdown",
   "metadata": {},
   "source": [
    "### Ans to Q-4: Print the substring from index 2 to index 4 for any given string. For example (llo) from “Hello World”"
   ]
  },
  {
   "cell_type": "code",
   "execution_count": 29,
   "metadata": {},
   "outputs": [
    {
     "data": {
      "text/plain": [
       "'llo'"
      ]
     },
     "execution_count": 29,
     "metadata": {},
     "output_type": "execute_result"
    }
   ],
   "source": [
    "var4 = \"Hello World\"\n",
    "var4[2:5]   #  its slicing "
   ]
  },
  {
   "cell_type": "markdown",
   "metadata": {},
   "source": [
    "### Ans to Q-5: Write a program to check a substring in a given string. For example 'e' is present in the word 'Umbrella'"
   ]
  },
  {
   "cell_type": "code",
   "execution_count": 35,
   "metadata": {},
   "outputs": [
    {
     "name": "stdout",
     "output_type": "stream",
     "text": [
      "success\n"
     ]
    }
   ],
   "source": [
    "var5 = \"Umbrella\"\n",
    "var5.find('e')\n",
    "\n",
    "if var5.find('e'):\n",
    "    print ('success')"
   ]
  },
  {
   "cell_type": "markdown",
   "metadata": {},
   "source": [
    "### Ans to Q-6: Use the correct comparison operator to check if 5 is not equal to 10."
   ]
  },
  {
   "cell_type": "code",
   "execution_count": 36,
   "metadata": {},
   "outputs": [
    {
     "name": "stdout",
     "output_type": "stream",
     "text": [
      "True\n"
     ]
    }
   ],
   "source": [
    "print (5 != 10)"
   ]
  },
  {
   "cell_type": "markdown",
   "metadata": {},
   "source": [
    "### Ans to Q-7: Write a program to get a string from the user and sort the words of the string in alphabetical order."
   ]
  },
  {
   "cell_type": "code",
   "execution_count": 40,
   "metadata": {},
   "outputs": [
    {
     "name": "stdout",
     "output_type": "stream",
     "text": [
      "Enter a test string:My name is meerabo\n",
      "My\n",
      "is\n",
      "meerabo\n",
      "name\n"
     ]
    }
   ],
   "source": [
    "var6 = input(\"Enter a test string:\")\n",
    "words = var6.split()\n",
    "words.sort()\n",
    "for i in words:\n",
    "    print (i)"
   ]
  },
  {
   "cell_type": "markdown",
   "metadata": {},
   "source": [
    "### Ans to Q-8: Join two words using special characters like ‘ – ‘ ,’#’"
   ]
  },
  {
   "cell_type": "code",
   "execution_count": 42,
   "metadata": {},
   "outputs": [
    {
     "name": "stdout",
     "output_type": "stream",
     "text": [
      "Hello world\n"
     ]
    }
   ],
   "source": [
    "var7 = \"Hello\" + \" world\"\n",
    "print (var7)"
   ]
  },
  {
   "cell_type": "markdown",
   "metadata": {},
   "source": [
    "### Ans to Q-9: Find all occurrences of “INDIA” in a given string ignoring the case.\n",
    "### input_str = \"Welcome to INDIA. india is awesome."
   ]
  },
  {
   "cell_type": "code",
   "execution_count": 44,
   "metadata": {},
   "outputs": [
    {
     "data": {
      "text/plain": [
       "2"
      ]
     },
     "execution_count": 44,
     "metadata": {},
     "output_type": "execute_result"
    }
   ],
   "source": [
    "input_str = \"Welcome to INDIA. india is awesome.\"\n",
    "input_str.lower().count('india')"
   ]
  },
  {
   "cell_type": "markdown",
   "metadata": {},
   "source": [
    "### Ans to Q-10: Replace first two ‘l’ with ‘n’ in ‘Hello World’"
   ]
  },
  {
   "cell_type": "code",
   "execution_count": 47,
   "metadata": {},
   "outputs": [
    {
     "data": {
      "text/plain": [
       "'Henno World'"
      ]
     },
     "execution_count": 47,
     "metadata": {},
     "output_type": "execute_result"
    }
   ],
   "source": [
    "var8 = \"Hello World\"\n",
    "var8.replace('l','n',2)"
   ]
  },
  {
   "cell_type": "markdown",
   "metadata": {},
   "source": [
    "### Ans to Q-11: Write a program that takes your full name as input and displays the abbreviations of the first and middle names except the last name which is displayed as it is. For example, if your name is Robert Brett Roser, then the output should be R.B.Roser."
   ]
  },
  {
   "cell_type": "code",
   "execution_count": 70,
   "metadata": {},
   "outputs": [
    {
     "name": "stdout",
     "output_type": "stream",
     "text": [
      "Enter your full name e.g Meerabo DIlipbhai Shah  - firstname, middle-name, last-name:Meerabo Shah\n",
      "M.Meerabo\n"
     ]
    }
   ],
   "source": [
    "name = input(\"Enter your full name e.g Meerabo DIlipbhai Shah  - firstname, middle-name, last-name:\")\n",
    "n1 = name.split()\n",
    "var9 = len(n1) - 1\n",
    "if (len(n1) >= 2) and (len(n1) <=3):\n",
    "    if len(n1) == 3:\n",
    "        print (n1[0][:1] + \".\" + n1[1][:1] + \".\" + n1[var9])\n",
    "    else:\n",
    "        print (n1[0][:1] + \".\" + n1[var9-1])    #  Assumed means middle name is absent "
   ]
  },
  {
   "cell_type": "markdown",
   "metadata": {},
   "source": [
    "### Ans to Q-12: Write a program to check if a given string is a Palindrome. A palindrome reads the same from front and back e.g.- aba, ccaacc, mom, etc."
   ]
  },
  {
   "cell_type": "code",
   "execution_count": 17,
   "metadata": {},
   "outputs": [
    {
     "name": "stdout",
     "output_type": "stream",
     "text": [
      "Enter some string for which we want to check Palindrome:-aba\n",
      "The string is palindrome:- aba\n"
     ]
    }
   ],
   "source": [
    "var10 = input (\"Enter some string for which we want to check Palindrome:-\")\n",
    "if var10 == var10[::-1]:\n",
    "    print (\"The string is palindrome:-\", var10)\n",
    "else:\n",
    "    print (\"The string is not Palindrome\",var10)"
   ]
  }
 ],
 "metadata": {
  "kernelspec": {
   "display_name": "Python 3",
   "language": "python",
   "name": "python3"
  },
  "language_info": {
   "codemirror_mode": {
    "name": "ipython",
    "version": 3
   },
   "file_extension": ".py",
   "mimetype": "text/x-python",
   "name": "python",
   "nbconvert_exporter": "python",
   "pygments_lexer": "ipython3",
   "version": "3.7.4"
  }
 },
 "nbformat": 4,
 "nbformat_minor": 2
}
