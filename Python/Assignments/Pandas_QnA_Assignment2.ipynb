{
 "cells": [
  {
   "cell_type": "markdown",
   "metadata": {},
   "source": [
    "Python Assignment – Pandas\n",
    "\n",
    "1. Define and create a Dataframe using Pandas.\n",
    "    "
   ]
  },
  {
   "cell_type": "code",
   "execution_count": 2,
   "metadata": {},
   "outputs": [
    {
     "name": "stdout",
     "output_type": "stream",
     "text": [
      "   0  1  2\n",
      "0  1  2  3\n",
      "1  4  5  6\n",
      "2  7  8  9\n"
     ]
    }
   ],
   "source": [
    "import pandas as pd\n",
    "import numpy as np\n",
    "\n",
    "df = pd.DataFrame([[1,2,3],[4,5,6],[7,8,9]])\n",
    "print (df)"
   ]
  },
  {
   "cell_type": "markdown",
   "metadata": {},
   "source": [
    "2. How can we calculate the standard deviation from the series.\n"
   ]
  },
  {
   "cell_type": "code",
   "execution_count": 12,
   "metadata": {},
   "outputs": [
    {
     "name": "stdout",
     "output_type": "stream",
     "text": [
      "0    1\n",
      "1    2\n",
      "2    3\n",
      "3    4\n",
      "4    5\n",
      "5    6\n",
      "dtype: int64\n",
      "standard deviation of series is: 1.8708286933869707\n"
     ]
    }
   ],
   "source": [
    "ps1 = pd.Series([1,2,3,4,5,6])\n",
    "print (ps1)\n",
    "print (\"standard deviation of series is:\",ps1.std())"
   ]
  },
  {
   "cell_type": "markdown",
   "metadata": {},
   "source": [
    "3. Create a Dataframe using List given below:\n",
    "\n",
    "lis=[‘Python’,’Numpy’,’Pandas’]\n"
   ]
  },
  {
   "cell_type": "code",
   "execution_count": 15,
   "metadata": {},
   "outputs": [
    {
     "name": "stdout",
     "output_type": "stream",
     "text": [
      "        0\n",
      "0  Python\n",
      "1   Numpy\n",
      "2  Pandas\n"
     ]
    }
   ],
   "source": [
    "lis = ['Python','Numpy','Pandas']\n",
    "\n",
    "df = pd.DataFrame(lis)\n",
    "print (df)"
   ]
  },
  {
   "cell_type": "markdown",
   "metadata": {},
   "source": [
    "4. Create a Series from dictionary given below:\n",
    "info = {'x' : 0., 'y' : 1., 'z' : 2.}"
   ]
  },
  {
   "cell_type": "code",
   "execution_count": 16,
   "metadata": {},
   "outputs": [
    {
     "name": "stdout",
     "output_type": "stream",
     "text": [
      "x    0.0\n",
      "y    1.0\n",
      "z    2.0\n",
      "dtype: float64\n"
     ]
    }
   ],
   "source": [
    "info = {'x' : 0., 'y' : 1., 'z' : 2.}\n",
    "\n",
    "ps1 = pd.Series(info)\n",
    "print (ps1)\n"
   ]
  },
  {
   "cell_type": "markdown",
   "metadata": {},
   "source": [
    "\n",
    "5. How will you create an empty Dataframe in Pandas?"
   ]
  },
  {
   "cell_type": "code",
   "execution_count": 18,
   "metadata": {},
   "outputs": [
    {
     "name": "stdout",
     "output_type": "stream",
     "text": [
      "empty dataframe <property object at 0x000001F9AD172638>\n"
     ]
    }
   ],
   "source": [
    "empty_df = pd.DataFrame.empty\n",
    "print (\"empty dataframe\", empty_df)"
   ]
  },
  {
   "cell_type": "markdown",
   "metadata": {},
   "source": [
    "\n",
    "6. \n",
    "i) Add a column to that pandas Dataframe that you created in Q1\n",
    "ii) Change index of that Dataframe.\n"
   ]
  },
  {
   "cell_type": "code",
   "execution_count": 25,
   "metadata": {},
   "outputs": [
    {
     "name": "stdout",
     "output_type": "stream",
     "text": [
      "added column:\n",
      "   col1  col2  col3\n",
      "0     1     2     3\n",
      "1     4     5     6\n",
      "2     7     8     9\n",
      "added Index:\n",
      "      col1  col2  col3\n",
      "row1     1     2     3\n",
      "row2     4     5     6\n",
      "row3     7     8     9\n"
     ]
    }
   ],
   "source": [
    "df = pd.DataFrame([[1,2,3],[4,5,6],[7,8,9]])\n",
    "df.columns = ['col1','col2','col3']\n",
    "\n",
    "print (\"added column:\")\n",
    "print (df)\n",
    "\n",
    "df.index = ['row1','row2','row3']\n",
    "\n",
    "print (\"added Index:\")\n",
    "print (df)\n"
   ]
  },
  {
   "cell_type": "markdown",
   "metadata": {},
   "source": [
    "\n",
    "7. Get the following from this dataframe:\n",
    "\n",
    "import random\n",
    "A = [ random.randint(0,100) for i in range(10) ]\n",
    "B = [ random.randint(0,100) for i in range(10) ]\n",
    "df = pd.DataFrame({ 'field_A': A, 'field_B': B })\n",
    "i) mean\n",
    "ii) median\n",
    "iii) mode\n",
    "iv) 75th percentile\n",
    "v) 90th percentile\n",
    "vi) 99th percentile\n"
   ]
  },
  {
   "cell_type": "code",
   "execution_count": 39,
   "metadata": {},
   "outputs": [
    {
     "name": "stdout",
     "output_type": "stream",
     "text": [
      "mean field_A    44.7\n",
      "field_B    54.0\n",
      "dtype: float64\n",
      "\n",
      "\n",
      "median field_A    45.5\n",
      "field_B    46.5\n",
      "dtype: float64\n",
      "\n",
      "\n",
      "mode 0     9\n",
      "1    11\n",
      "2    20\n",
      "3    31\n",
      "4    41\n",
      "5    50\n",
      "6    55\n",
      "7    56\n",
      "8    76\n",
      "9    98\n",
      "dtype: int64\n",
      "\n",
      "\n",
      "mode 0    27\n",
      "1    34\n",
      "2    37\n",
      "3    43\n",
      "4    44\n",
      "5    49\n",
      "6    54\n",
      "7    70\n",
      "8    84\n",
      "9    98\n",
      "dtype: int64\n",
      "\n",
      "\n",
      "75 percentile 55.75\n",
      "90th percentile 78.2\n",
      "99th percentile 88.09999999999997\n"
     ]
    },
    {
     "data": {
      "text/html": [
       "<div>\n",
       "<style scoped>\n",
       "    .dataframe tbody tr th:only-of-type {\n",
       "        vertical-align: middle;\n",
       "    }\n",
       "\n",
       "    .dataframe tbody tr th {\n",
       "        vertical-align: top;\n",
       "    }\n",
       "\n",
       "    .dataframe thead th {\n",
       "        text-align: right;\n",
       "    }\n",
       "</style>\n",
       "<table border=\"1\" class=\"dataframe\">\n",
       "  <thead>\n",
       "    <tr style=\"text-align: right;\">\n",
       "      <th></th>\n",
       "      <th>field_A</th>\n",
       "      <th>field_B</th>\n",
       "    </tr>\n",
       "  </thead>\n",
       "  <tbody>\n",
       "    <tr>\n",
       "      <td>count</td>\n",
       "      <td>10.000000</td>\n",
       "      <td>10.00000</td>\n",
       "    </tr>\n",
       "    <tr>\n",
       "      <td>mean</td>\n",
       "      <td>44.700000</td>\n",
       "      <td>54.00000</td>\n",
       "    </tr>\n",
       "    <tr>\n",
       "      <td>std</td>\n",
       "      <td>28.488009</td>\n",
       "      <td>22.98792</td>\n",
       "    </tr>\n",
       "    <tr>\n",
       "      <td>min</td>\n",
       "      <td>9.000000</td>\n",
       "      <td>27.00000</td>\n",
       "    </tr>\n",
       "    <tr>\n",
       "      <td>25%</td>\n",
       "      <td>22.750000</td>\n",
       "      <td>38.50000</td>\n",
       "    </tr>\n",
       "    <tr>\n",
       "      <td>50%</td>\n",
       "      <td>45.500000</td>\n",
       "      <td>46.50000</td>\n",
       "    </tr>\n",
       "    <tr>\n",
       "      <td>75%</td>\n",
       "      <td>55.750000</td>\n",
       "      <td>66.00000</td>\n",
       "    </tr>\n",
       "    <tr>\n",
       "      <td>max</td>\n",
       "      <td>98.000000</td>\n",
       "      <td>98.00000</td>\n",
       "    </tr>\n",
       "  </tbody>\n",
       "</table>\n",
       "</div>"
      ],
      "text/plain": [
       "         field_A   field_B\n",
       "count  10.000000  10.00000\n",
       "mean   44.700000  54.00000\n",
       "std    28.488009  22.98792\n",
       "min     9.000000  27.00000\n",
       "25%    22.750000  38.50000\n",
       "50%    45.500000  46.50000\n",
       "75%    55.750000  66.00000\n",
       "max    98.000000  98.00000"
      ]
     },
     "execution_count": 39,
     "metadata": {},
     "output_type": "execute_result"
    }
   ],
   "source": [
    "import random\n",
    "\n",
    "A = [ random.randint(0,100) for i in range(10) ]\n",
    "B = [ random.randint(0,100) for i in range(10) ]\n",
    "\n",
    "df = pd.DataFrame({ 'field_A': A, 'field_B': B })\n",
    "\n",
    "print (\"mean\",df.mean())\n",
    "print (\"\\n\")\n",
    "print (\"median\",df.median())\n",
    "print (\"\\n\")\n",
    "\n",
    "print (\"mode\",df.field_A.mode())\n",
    "print (\"\\n\")\n",
    "\n",
    "print (\"mode\",df.field_B.mode())\n",
    "print (\"\\n\")\n",
    "\n",
    "\n",
    "\n",
    "\n",
    "print (\"75 percentile\",df.field_A.quantile(0.75))\n",
    "print (\"90th percentile\",df.field_A.quantile(0.90))\n",
    "print (\"99th percentile\",df.field_A.quantile(0.95))\n",
    "\n",
    "df.describe()"
   ]
  },
  {
   "cell_type": "markdown",
   "metadata": {},
   "source": [
    "\n",
    "8. How do you count how many unique rows a DataFrame has (i.e.\n",
    "ignore all rows that are duplicates)?\n"
   ]
  },
  {
   "cell_type": "code",
   "execution_count": 50,
   "metadata": {},
   "outputs": [
    {
     "name": "stdout",
     "output_type": "stream",
     "text": [
      "Unique rows: 2\n"
     ]
    }
   ],
   "source": [
    "df = pd.DataFrame([[1,1],[1,2],[1,1],[1,2]])    #  removed the duplicates \n",
    "df\n",
    "print (\"Unique rows:\",len(df.drop_duplicates().index))"
   ]
  },
  {
   "cell_type": "markdown",
   "metadata": {},
   "source": [
    "\n",
    "9. How to keep only top 2 most frequent values as it is and replace\n",
    "everything else as ‘Other’? Take the following as input.\n",
    "\n",
    "np.random.RandomState(100)\n",
    "ser = pd.Series(np.random.randint(1, 5, [12]))\n"
   ]
  },
  {
   "cell_type": "code",
   "execution_count": 58,
   "metadata": {},
   "outputs": [
    {
     "name": "stdout",
     "output_type": "stream",
     "text": [
      "Top 2 Freq: 1    6\n",
      "3    4\n",
      "4    1\n",
      "2    1\n",
      "dtype: int64\n",
      "0     Other\n",
      "1     Other\n",
      "2         1\n",
      "3     Other\n",
      "4         1\n",
      "5         1\n",
      "6         1\n",
      "7     Other\n",
      "8     Other\n",
      "9         1\n",
      "10        1\n",
      "11    Other\n",
      "dtype: object\n"
     ]
    }
   ],
   "source": [
    "np.random.RandomState(100) \n",
    "ser = pd.Series(np.random.randint(1, 5, [12]))\n",
    "\n",
    "print(\"Top 2 Freq:\", ser.value_counts())\n",
    "ser[~ser.isin(ser.value_counts().index[:1])] = 'Other'\n",
    "\n",
    "print(ser)\n"
   ]
  },
  {
   "cell_type": "markdown",
   "metadata": {},
   "source": [
    "\n",
    "10. A DataFrame has a column of groups 'grps' and and column of\n",
    "integer values 'vals':\n",
    "\n",
    "df = pd.DataFrame({'grps':\n",
    "list('aaabbcaabcccbbc'),\n",
    "'vals': [12, 345, 3, 1, 45, 14 , 4, 52, 54, 23, 235,\n",
    "21, 57, 3, 87]})\n",
    "\n",
    "For each group, find the sum of the three greatest values. You\n",
    "should end up with the answer as follows:\n",
    "\n",
    "grps\n",
    "a 409\n",
    "b 156\n",
    "c 345\n"
   ]
  },
  {
   "cell_type": "code",
   "execution_count": 63,
   "metadata": {},
   "outputs": [
    {
     "name": "stdout",
     "output_type": "stream",
     "text": [
      "   grps  vals\n",
      "0     a    12\n",
      "1     a   345\n",
      "2     a     3\n",
      "3     b     1\n",
      "4     b    45\n",
      "5     c    14\n",
      "6     a     4\n",
      "7     a    52\n",
      "8     b    54\n",
      "9     c    23\n",
      "10    c   235\n",
      "11    c    21\n",
      "12    b    57\n",
      "13    b     3\n",
      "14    c    87\n",
      "grps\n",
      "a    409\n",
      "b    156\n",
      "c    345\n",
      "dtype: int64\n"
     ]
    }
   ],
   "source": [
    "df = pd.DataFrame({'grps': list('aaabbcaabcccbbc'), 'vals': [12, 345, 3, 1, 45, 14 , 4, 52, 54, 23, 235, 21, 57, 3, 87]})\n",
    "print (df)\n",
    "print (df.groupby('grps').apply(lambda x: x.vals.nlargest(3).sum()))"
   ]
  },
  {
   "cell_type": "markdown",
   "metadata": {},
   "source": [
    "\n",
    "\n",
    "*Create a dataframe for the following to answer the next few questions\n",
    "data = {'animal': ['cat', 'cat', 'snake', 'dog', 'dog', 'cat',\n",
    "'snake', 'cat', 'dog', 'dog'],\n",
    "'age': [2.5, 3, 0.5, np.nan, 5, 2, 4.5, np.nan, 7, 3],\n",
    "'visits': [1, 3, 2, 3, 2, 3, 1, 1, 2, 1],\n",
    "'priority': ['yes', 'yes', 'no', 'yes', 'no', 'no', 'no', 'yes', 'no',\n",
    "'no']}\n",
    "labels = ['a', 'b', 'c', 'd', 'e', 'f', 'g', 'h', 'i', 'j']\n",
    "\n",
    "\n",
    "\n"
   ]
  },
  {
   "cell_type": "code",
   "execution_count": 3,
   "metadata": {},
   "outputs": [],
   "source": [
    "data = {'animal': ['cat', 'cat', 'snake', 'dog', 'dog', 'cat', 'snake', 'cat', 'dog', 'dog'], 'age': [2.5, 3, 0.5, np.nan, 5, 2, 4.5, np.nan, 7, 3], 'visits': [1, 3, 2, 3, 2, 3, 1, 1, 2, 1], 'priority': ['yes', 'yes', 'no', 'yes', 'no', 'no', 'no', 'yes', 'no', 'no']}\n",
    "labels = ['a', 'b', 'c', 'd', 'e', 'f', 'g', 'h', 'i', 'j']"
   ]
  },
  {
   "cell_type": "markdown",
   "metadata": {},
   "source": [
    "11. Display a summary of the basic information about this\n",
    "DataFrame and its data (hint: there is a single method that can\n",
    "be called on the DataFrame)."
   ]
  },
  {
   "cell_type": "code",
   "execution_count": 64,
   "metadata": {},
   "outputs": [
    {
     "name": "stdout",
     "output_type": "stream",
     "text": [
      "Summary of the basic information about this DataFrame and its data:\n",
      "<class 'pandas.core.frame.DataFrame'>\n",
      "Index: 10 entries, a to j\n",
      "Data columns (total 4 columns):\n",
      "animal      10 non-null object\n",
      "age         8 non-null float64\n",
      "visits      10 non-null int64\n",
      "priority    10 non-null object\n",
      "dtypes: float64(1), int64(1), object(2)\n",
      "memory usage: 400.0+ bytes\n",
      "None\n"
     ]
    }
   ],
   "source": [
    "df = pd.DataFrame(data , index=labels)\n",
    "print(\"Summary of the basic information about this DataFrame and its data:\")\n",
    "print(df.info())"
   ]
  },
  {
   "cell_type": "markdown",
   "metadata": {},
   "source": [
    "\n",
    "12. Select the rows where the age is between 2 and 4 (inclusive)."
   ]
  },
  {
   "cell_type": "code",
   "execution_count": 7,
   "metadata": {},
   "outputs": [
    {
     "name": "stdout",
     "output_type": "stream",
     "text": [
      "  animal  age  visits priority\n",
      "a    cat  2.5       1      yes\n",
      "b    cat  3.0       3      yes\n",
      "f    cat  2.0       3       no\n",
      "j    dog  3.0       1       no\n"
     ]
    }
   ],
   "source": [
    "print (df[df['age'].between(2,4)])"
   ]
  },
  {
   "cell_type": "markdown",
   "metadata": {},
   "source": [
    "13. Select the data in rows [3, 4, 8] and in columns ['animal', 'age']."
   ]
  },
  {
   "cell_type": "code",
   "execution_count": 20,
   "metadata": {},
   "outputs": [
    {
     "name": "stdout",
     "output_type": "stream",
     "text": [
      "  animal  age\n",
      "d    dog  NaN\n",
      "e    dog  5.0\n",
      "i    dog  7.0\n"
     ]
    }
   ],
   "source": [
    "#print (df[df['animal','age'].iloc[[3,4,8]]])\n",
    "print(df.iloc[[3, 4, 8], [0, 1]])\n"
   ]
  },
  {
   "cell_type": "markdown",
   "metadata": {},
   "source": [
    "\n",
    "14. Select the rows where the age is missing, i.e. it is NaN."
   ]
  },
  {
   "cell_type": "code",
   "execution_count": 22,
   "metadata": {},
   "outputs": [
    {
     "name": "stdout",
     "output_type": "stream",
     "text": [
      "  animal  age  visits priority\n",
      "d    dog  NaN       3      yes\n",
      "h    cat  NaN       1      yes\n"
     ]
    }
   ],
   "source": [
    "print (df[df['age'].isnull()])"
   ]
  },
  {
   "cell_type": "markdown",
   "metadata": {},
   "source": [
    "\n",
    "15. Select the rows where the animal is a cat and the age is less than\n",
    "3."
   ]
  },
  {
   "cell_type": "code",
   "execution_count": 28,
   "metadata": {},
   "outputs": [
    {
     "name": "stdout",
     "output_type": "stream",
     "text": [
      "  animal  age  visits priority\n",
      "a    cat  2.5       1      yes\n",
      "f    cat  2.0       3       no\n"
     ]
    }
   ],
   "source": [
    "print (df[(df['animal'] == 'cat') & (df['age'] < 3)])"
   ]
  },
  {
   "cell_type": "markdown",
   "metadata": {},
   "source": [
    "\n",
    "16. Change the age in row 'f' to 1.5."
   ]
  },
  {
   "cell_type": "code",
   "execution_count": 37,
   "metadata": {},
   "outputs": [
    {
     "name": "stdout",
     "output_type": "stream",
     "text": [
      "  animal  age  visits priority\n",
      "a    cat  2.5       1      yes\n",
      "b    cat  3.0       3      yes\n",
      "c  snake  0.5       2       no\n",
      "d    dog  NaN       3      yes\n",
      "e    dog  5.0       2       no\n",
      "f    cat  1.5       3       no\n",
      "g  snake  4.5       1       no\n",
      "h    cat  NaN       1      yes\n",
      "i    dog  7.0       2       no\n",
      "j    dog  3.0       1       no\n"
     ]
    }
   ],
   "source": [
    "df.loc['f','age'] = 1.5\n",
    "print (df)"
   ]
  },
  {
   "cell_type": "markdown",
   "metadata": {},
   "source": [
    "\n",
    "17. In the 'animal' column, change the 'snake' entries to 'python'."
   ]
  },
  {
   "cell_type": "code",
   "execution_count": 50,
   "metadata": {},
   "outputs": [
    {
     "name": "stdout",
     "output_type": "stream",
     "text": [
      "   animal  age  visits priority\n",
      "a     cat  2.5       1      yes\n",
      "b     cat  3.0       3      yes\n",
      "c  python  0.5       2       no\n",
      "d     dog  NaN       3      yes\n",
      "e     dog  5.0       2       no\n",
      "f     cat  1.5       3       no\n",
      "g  python  4.5       1       no\n",
      "h     cat  NaN       1      yes\n",
      "i     dog  7.0       2       no\n",
      "j     dog  3.0       1       no\n"
     ]
    }
   ],
   "source": [
    "df_replaced = df.replace({'animal':{'snake':'python'}})\n",
    "print (df_replaced)"
   ]
  },
  {
   "cell_type": "markdown",
   "metadata": {},
   "source": [
    "\n",
    "18. Count the number of each type of animal in df."
   ]
  },
  {
   "cell_type": "code",
   "execution_count": 56,
   "metadata": {},
   "outputs": [
    {
     "name": "stdout",
     "output_type": "stream",
     "text": [
      "cat       4\n",
      "dog       4\n",
      "snake     2\n",
      "python    1\n",
      "Name: animal, dtype: int64\n"
     ]
    }
   ],
   "source": [
    "print (df['animal'].value_counts())"
   ]
  },
  {
   "cell_type": "markdown",
   "metadata": {},
   "source": [
    "19. The 'priority' column contains the values 'yes' and 'no'. Replace\n",
    "this column with a column of boolean values: 'yes' should\n",
    "be True and 'no' should be False."
   ]
  },
  {
   "cell_type": "code",
   "execution_count": 65,
   "metadata": {},
   "outputs": [
    {
     "name": "stdout",
     "output_type": "stream",
     "text": [
      "  animal  age  visits  priority\n",
      "a    cat  2.5       1      True\n",
      "b    cat  3.0       3      True\n",
      "c  snake  0.5       2     False\n",
      "d    dog  NaN       3      True\n",
      "e    dog  5.0       2     False\n",
      "f    cat  2.0       3     False\n",
      "g  snake  4.5       1     False\n",
      "h    cat  NaN       1      True\n",
      "i    dog  7.0       2     False\n",
      "j    dog  3.0       1     False\n"
     ]
    }
   ],
   "source": [
    "df['priority'] = df['priority'].map({'yes':True ,'no':False})\n",
    "print (df)"
   ]
  },
  {
   "cell_type": "markdown",
   "metadata": {},
   "source": [
    "20. For each animal type and each number of visits, find the mean\n",
    "age. In other words, each row is an animal, each column is a\n",
    "number of visits and the values are the mean ages (hint: use a\n",
    "pivot table)."
   ]
  },
  {
   "cell_type": "code",
   "execution_count": 70,
   "metadata": {},
   "outputs": [
    {
     "name": "stdout",
     "output_type": "stream",
     "text": [
      "visits    1    2    3\n",
      "animal               \n",
      "cat     2.5  NaN  2.5\n",
      "dog     3.0  6.0  NaN\n",
      "snake   4.5  0.5  NaN\n",
      "\n",
      "\n",
      "animal  visits\n",
      "cat     1         2.5\n",
      "        3         2.5\n",
      "dog     1         3.0\n",
      "        2         6.0\n",
      "        3         NaN\n",
      "snake   1         4.5\n",
      "        2         0.5\n",
      "Name: age, dtype: float64\n"
     ]
    }
   ],
   "source": [
    "print (df.pivot_table(index='animal', columns='visits', values='age', aggfunc=np.mean))\n",
    "# or \n",
    "print (\"\\n\")\n",
    "print (df.groupby([\"animal\", \"visits\"])[\"age\"].mean())"
   ]
  },
  {
   "cell_type": "code",
   "execution_count": null,
   "metadata": {},
   "outputs": [],
   "source": []
  }
 ],
 "metadata": {
  "kernelspec": {
   "display_name": "Python 3",
   "language": "python",
   "name": "python3"
  },
  "language_info": {
   "codemirror_mode": {
    "name": "ipython",
    "version": 3
   },
   "file_extension": ".py",
   "mimetype": "text/x-python",
   "name": "python",
   "nbconvert_exporter": "python",
   "pygments_lexer": "ipython3",
   "version": "3.7.4"
  }
 },
 "nbformat": 4,
 "nbformat_minor": 2
}
