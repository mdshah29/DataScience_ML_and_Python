{
 "cells": [
  {
   "cell_type": "code",
   "execution_count": 64,
   "metadata": {},
   "outputs": [
    {
     "name": "stdout",
     "output_type": "stream",
     "text": [
      "3 (1, 2)\n",
      "4 (1, 3)\n",
      "5 (1, 4)\n",
      "5 (2, 3)\n",
      "6 (2, 4)\n",
      "7 (3, 4)\n",
      "[1, 2, 3, 4, 5]\n",
      "length is odd for odd digit\n",
      "12345 54321\n"
     ]
    }
   ],
   "source": [
    "from random import randint\n",
    "from itertools import combinations\n",
    "\n",
    "x = [p for p in range(1, 5)]\n",
    "templist = list(combinations(x, 2))\n",
    "\n",
    "for ele in templist:\n",
    "    summation = sum(list(ele))   \n",
    "    print (summation,ele)\n",
    "    \n",
    "\n",
    "\n",
    "x = 12345\n",
    "\n",
    "#res = [int(i) for i in str(x)]\n",
    "#print (res)\n",
    "u = list(map(int,str(x)))\n",
    "print (u)\n",
    "\n",
    "y = list(str(x))\n",
    "odddigit = [i for i in y if int(i)%2 != 0]\n",
    "if len(odddigit) % 2 == 0:\n",
    "    print (\"length is even for odd digit\")\n",
    "else:\n",
    "    print (\"length is odd for odd digit\")\n",
    "    \n",
    "    \n",
    "# reverse the number\n",
    "\n",
    "num = 12345\n",
    "\n",
    "x = list(str(num))\n",
    "x.reverse()\n",
    "new_x = ''.join(x)\n",
    "print (num,new_x)"
   ]
  },
  {
   "cell_type": "code",
   "execution_count": 68,
   "metadata": {},
   "outputs": [
    {
     "name": "stdout",
     "output_type": "stream",
     "text": [
      "Enter the number121\n",
      "1 1 12\n",
      "2 12 1\n",
      "1 121 0\n",
      "number is palindrome\n"
     ]
    }
   ],
   "source": [
    "n = int(input(\"Enter the number\"))\n",
    "temp = n\n",
    "rev = 0\n",
    "while (n>0):\n",
    "    dig = n%10\n",
    "    rev = rev*10 + dig\n",
    "    n = n//10\n",
    "    print (dig,rev,n)\n",
    "\n",
    "if (temp == rev):\n",
    "    print (\"number is palindrome\")\n",
    "    \n",
    "    "
   ]
  },
  {
   "cell_type": "code",
   "execution_count": 10,
   "metadata": {},
   "outputs": [
    {
     "name": "stdout",
     "output_type": "stream",
     "text": [
      "(0, 1)\n"
     ]
    }
   ],
   "source": [
    "from itertools import combinations\n",
    "\n",
    "class Solution:\n",
    "    def twoSum(self, N,K):\n",
    "        sets_from_list = combinations(enumerate(N),2)        \n",
    "        for ((i,j),(k,l)) in sets_from_list:            \n",
    "            if int(K) == sum((j,l)):\n",
    "                return i,k\n",
    "            \n",
    "c1 = Solution()\n",
    "print (c1.twoSum([2,7,11,15],9))\n"
   ]
  }
 ],
 "metadata": {
  "kernelspec": {
   "display_name": "Python 3",
   "language": "python",
   "name": "python3"
  },
  "language_info": {
   "codemirror_mode": {
    "name": "ipython",
    "version": 3
   },
   "file_extension": ".py",
   "mimetype": "text/x-python",
   "name": "python",
   "nbconvert_exporter": "python",
   "pygments_lexer": "ipython3",
   "version": "3.7.7"
  }
 },
 "nbformat": 4,
 "nbformat_minor": 2
}
