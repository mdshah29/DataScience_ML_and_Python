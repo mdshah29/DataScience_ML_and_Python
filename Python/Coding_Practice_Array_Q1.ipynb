{
 "cells": [
  {
   "cell_type": "markdown",
   "metadata": {},
   "source": [
    "### Q-1: Given an array of integers, return the indices of the two numbers that add up to a given target"
   ]
  },
  {
   "cell_type": "code",
   "execution_count": 1,
   "metadata": {},
   "outputs": [
    {
     "name": "stdout",
     "output_type": "stream",
     "text": [
      "Enter comma seperated values: 1,2,3,4,5,6\n",
      "Enter target value: 3\n",
      "range(0, 6)\n",
      "set matched with target is:  (0, 1)\n"
     ]
    }
   ],
   "source": [
    "# Method :- 1\n",
    "\n",
    "def find_set(N,K):\n",
    "    print (range(len(N)))\n",
    "    for p1 in range(0,len(N)):\n",
    "        expected_value = int(target_value) - N[p1]\n",
    "        for p2 in range(p1,len(N)):\n",
    "            if expected_value == N[p2]:\n",
    "                return p1,p2\n",
    "        \n",
    "    return \"null\"\n",
    "    \n",
    "\n",
    "input_array = input(\"Enter comma seperated values: \").split(',')\n",
    "input_array = list(map(int,input_array))\n",
    "\n",
    "target_value = input(\"Enter target value: \")\n",
    "\n",
    "result  = find_set(input_array,target_value)\n",
    "print (\"set matched with target is: \", result)\n",
    "\n",
    "    "
   ]
  },
  {
   "cell_type": "code",
   "execution_count": null,
   "metadata": {},
   "outputs": [],
   "source": []
  },
  {
   "cell_type": "code",
   "execution_count": null,
   "metadata": {},
   "outputs": [],
   "source": []
  },
  {
   "cell_type": "code",
   "execution_count": 37,
   "metadata": {},
   "outputs": [
    {
     "name": "stdout",
     "output_type": "stream",
     "text": [
      "Enter comma seperated values: 1,3,4,9,2\n",
      "Enter target value: 11\n",
      "[(1, 3), (1, 4), (1, 9), (1, 2), (3, 4), (3, 9), (3, 2), (4, 9), (4, 2), (9, 2)]\n",
      "set matched with target is:  None\n"
     ]
    }
   ],
   "source": [
    "# Method :- 2 \n",
    "\n",
    "from itertools import combinations\n",
    "\n",
    "def find_set(N,K):\n",
    "    sets_from_list = combinations(N,2)\n",
    "    print (list(sets_from_list))\n",
    "    for sets in sets_from_list:\n",
    "        if int(K) == sum(sets):\n",
    "            print (\"matched set is \",sets)\n",
    "            return N.index(sets[0]),N.index(sets[1])\n",
    "    \n",
    "\n",
    "input_array = input(\"Enter comma seperated values: \").split(',')\n",
    "input_array = list(map(int,input_array))\n",
    "\n",
    "target_value = input(\"Enter target value: \")\n",
    "\n",
    "result  = find_set(input_array,target_value)\n",
    "print (\"set matched with target is: \", result)\n"
   ]
  }
 ],
 "metadata": {
  "kernelspec": {
   "display_name": "Python 3",
   "language": "python",
   "name": "python3"
  },
  "language_info": {
   "codemirror_mode": {
    "name": "ipython",
    "version": 3
   },
   "file_extension": ".py",
   "mimetype": "text/x-python",
   "name": "python",
   "nbconvert_exporter": "python",
   "pygments_lexer": "ipython3",
   "version": "3.7.7"
  }
 },
 "nbformat": 4,
 "nbformat_minor": 2
}
