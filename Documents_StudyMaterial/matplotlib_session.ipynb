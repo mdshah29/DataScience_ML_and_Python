{
 "cells": [
  {
   "cell_type": "code",
   "execution_count": null,
   "metadata": {
    "scrolled": true
   },
   "outputs": [],
   "source": [
    "import numpy as np\n",
    "import matplotlib.pyplot as plt\n",
    "import matplotlib as mpl\n",
    "print(plt.style.available)\n",
    "plt.style.use('classic')\n",
    "#plt.style.use('ggplot')\n",
    "%matplotlib inline\n",
    "# static images of the plot embedded in the notebook"
   ]
  },
  {
   "cell_type": "code",
   "execution_count": null,
   "metadata": {},
   "outputs": [],
   "source": [
    "# lets start with a simple plot\n",
    "plt.plot([1, 2, 3, 4, 8])   #default values on x-axis are 0,1,2,3,4\n",
    "plt.show()\n",
    "plt.plot([1,2,3],[4,5,6])   #2D line plot here x-axis values are defined as array\n",
    "plt.show()\n",
    "#Highlight the difference between Univariate and Bivariate Analysis"
   ]
  },
  {
   "cell_type": "code",
   "execution_count": null,
   "metadata": {},
   "outputs": [],
   "source": [
    "# Lets create an array again and plot data\n",
    "data=np.arange(0,15)\n",
    "plt.plot(data)"
   ]
  },
  {
   "cell_type": "code",
   "execution_count": null,
   "metadata": {},
   "outputs": [],
   "source": [
    "#Specify X-axis values and Y-axis values explicitly\n",
    "x = [5,8,10]\n",
    "y = [10,16,6]\n",
    "plt.plot(x,y)\n",
    "plt.show()"
   ]
  },
  {
   "cell_type": "code",
   "execution_count": null,
   "metadata": {
    "scrolled": true
   },
   "outputs": [],
   "source": [
    "x =range(5)\n",
    "plt.plot(x, [x1**2 for x1 in x])\n",
    "plt.show()"
   ]
  },
  {
   "cell_type": "code",
   "execution_count": null,
   "metadata": {},
   "outputs": [],
   "source": [
    "x = np.arange(0, 5, 0.01)\n",
    "plt.plot(x, [x1**2 for x1 in x])\n",
    "plt.show()"
   ]
  },
  {
   "cell_type": "code",
   "execution_count": null,
   "metadata": {
    "scrolled": true
   },
   "outputs": [],
   "source": [
    "#Plotting sinx and cosx\n",
    "x = np.linspace(0, 10, 100)\n",
    "plt.plot(x, np.sin(x)) \n",
    "plt.plot(x, np.cos(x))\n",
    "plt.show()"
   ]
  },
  {
   "cell_type": "code",
   "execution_count": null,
   "metadata": {},
   "outputs": [],
   "source": [
    "#Plotting sinx and cosx\n",
    "x = np.linspace(0, 10, 100)\n",
    "plt.plot(x, np.sin(x)) \n",
    "plt.plot(x, np.cos(x))\n",
    "plt.show()"
   ]
  },
  {
   "cell_type": "code",
   "execution_count": null,
   "metadata": {},
   "outputs": [],
   "source": [
    "# Different x-Y plots on the same plot\n",
    "x =range(5)\n",
    "plt.plot(x, [x1 for x1 in x])\n",
    "plt.plot(x, [x1*x1 for x1 in x])\n",
    "plt.plot(x, [x1*x1*x1 for x1 in x])\n",
    "plt.show()"
   ]
  },
  {
   "cell_type": "code",
   "execution_count": null,
   "metadata": {},
   "outputs": [],
   "source": [
    "#plot with a grid background\n",
    "x =range(5)\n",
    "plt.plot(x, [x1 for x1 in x], x, \n",
    "\t[x1*2 for x1 in x],\n",
    "         x, [x1*4 for x1 in x])\n",
    "plt.grid(True)\n",
    "plt.show()"
   ]
  },
  {
   "cell_type": "code",
   "execution_count": null,
   "metadata": {},
   "outputs": [],
   "source": [
    "#Line color and styles\n",
    "x = np.linspace(0, 10, 100)\n",
    "plt.plot(x, np.sin(x - 0), color='blue')        # color by name\n",
    "plt.plot(x, np.sin(x - 1), color='g')           # short color code (rgbcmyk) \n",
    "plt.plot(x, np.sin(x - 2), color='0.75')        # Grayscale between 0 and 1\n",
    "plt.plot(x, np.sin(x - 4), color=(1.0,0.2,0.3)) # RGB tuple, values 0 and 1 \n",
    "plt.show()"
   ]
  },
  {
   "cell_type": "code",
   "execution_count": null,
   "metadata": {},
   "outputs": [],
   "source": [
    "x = np.linspace(0, 10, 100)\n",
    "plt.plot(x, x + 0, linestyle='solid')  \n",
    "plt.plot(x, x + 1, linestyle='dashed')   \n",
    "plt.plot(x, x + 2, linestyle='dashdot')   \n",
    "plt.plot(x, x + 3, linestyle='dotted')\n",
    "plt.show()"
   ]
  },
  {
   "cell_type": "code",
   "execution_count": null,
   "metadata": {},
   "outputs": [],
   "source": [
    "# Short codes for linestyles\n",
    "x = np.linspace(0, 10, 100)\n",
    "plt.plot(x, x + 4, linestyle='-', linewidth=1.0)  # solid  \n",
    "plt.plot(x, x + 5, linestyle='--', linewidth = 2.0) # dashed  \n",
    "plt.plot(x, x + 6, linestyle='-.', linewidth = 3.0) # dashdot   \n",
    "plt.plot(x, x + 7, linestyle=':', linewidth = 4.0)  # dotted"
   ]
  },
  {
   "cell_type": "code",
   "execution_count": null,
   "metadata": {},
   "outputs": [],
   "source": [
    "x = np.linspace(0, 10, 100)\n",
    "plt.plot(x, np.sin(x - 0), color='blue', marker='+')        # color by name\n",
    "plt.plot(x, np.sin(x - 1), color='g')           # short color code (rgbcmyk) \n",
    "plt.plot(x, np.sin(x - 2), color='0.75')        # Grayscale between 0 and 1\n",
    "plt.plot(x, np.sin(x - 4), color=(1.0,0.2,0.3)) # RGB tuple, values 0 and 1 \n",
    "plt.show()\n"
   ]
  },
  {
   "cell_type": "code",
   "execution_count": null,
   "metadata": {},
   "outputs": [],
   "source": [
    "#Line color and marker\n",
    "x = np.linspace(0, 10, 100)\n",
    "plt.plot(x, np.sin(x - 0), color='blue', marker ='+')   # color by name\n",
    "plt.plot(x, np.sin(x - 1), color='g', marker = '*')      # short color code (rgbcmyk) \n",
    "plt.plot(x, np.sin(x - 2), color='0.75', marker = 's')  # Grayscale between 0 and 1\n",
    "plt.plot(x, np.sin(x - 4), color=(1.0,0.2,0.3), marker = 'd') # RGB tuple, values 0 and 1 \n",
    "plt.show()"
   ]
  },
  {
   "cell_type": "code",
   "execution_count": null,
   "metadata": {
    "scrolled": false
   },
   "outputs": [],
   "source": [
    "import numpy as np\n",
    "x = np.arange(5)\n",
    "plt.plot(x, x, label='linear')\n",
    "plt.plot(x, x*x, label='square')\n",
    "plt.plot(x, x*x*x, label='cube')\n",
    "plt.legend()\n",
    "plt.grid(True)\n",
    "plt.show()"
   ]
  },
  {
   "cell_type": "code",
   "execution_count": null,
   "metadata": {
    "scrolled": true
   },
   "outputs": [],
   "source": [
    "# label the lines, label X and Y-axis, Label or give a title to the graph\n",
    "import numpy as np\n",
    "x = np.arange(5)\n",
    "plt.plot(x, x, label='linear')\n",
    "plt.plot(x, x*x, label='square')\n",
    "plt.plot(x, x*x*x, label='cube')\n",
    "plt.grid(True)\n",
    "plt.legend()\n",
    "plt.xlabel('X-axis')\n",
    "plt.ylabel('Y-axis')\n",
    "plt.title('Polynomial Graph')\n",
    "plt.show()"
   ]
  },
  {
   "cell_type": "code",
   "execution_count": null,
   "metadata": {},
   "outputs": [],
   "source": [
    "import numpy as np\n",
    "x = np.arange(5)\n",
    "plt.plot(x, x, label='linear')\n",
    "plt.plot(x, x*x, label='square')\n",
    "plt.plot(x, x*x*x, label='cube')\n",
    "plt.grid(True)\n",
    "plt.legend()        #display labels\n",
    "plt.xlabel('X-axis')    #x-axis title\n",
    "plt.ylabel('Y-axis')    #y-axis title\n",
    "plt.title('Polynomial Graph')   #graph title\n",
    "#plt.xlim(-1, 5)\n",
    "#plt.ylim(-1, 10)\n",
    "#plt.axis('tight')   #automatically tightens the bounds\n",
    "plt.axis('equal')\n",
    "plt.show()"
   ]
  },
  {
   "cell_type": "code",
   "execution_count": null,
   "metadata": {},
   "outputs": [],
   "source": [
    "#Line color and marker\n",
    "x = np.linspace(0, 10, 100)\n",
    "plt.plot(x, x + 0, color='blue')        # color by name\n",
    "plt.plot(x, x + 1, color='g')           # short color code (rgbcmyk) \n",
    "plt.plot(x, x + 2, color='0.75')        # Grayscale between 0 and 1\n",
    "plt.plot(x, x + 3, color=(1.0,0.2,0.3)) # RGB tuple, values 0 and 1 \n",
    "plt.show()"
   ]
  },
  {
   "cell_type": "code",
   "execution_count": null,
   "metadata": {},
   "outputs": [],
   "source": [
    "# An equal aspect ratio i.e. one unit in x is equal to one unit in y\n",
    "import numpy as np\n",
    "x = np.linspace(0, 10, 100)\n",
    "plt.plot(x, np.sin(x))\n",
    "plt.axis('tight')\n",
    "#plt.axis('equal')\n"
   ]
  },
  {
   "cell_type": "code",
   "execution_count": null,
   "metadata": {
    "scrolled": true
   },
   "outputs": [],
   "source": [
    "import numpy as np\n",
    "x = np.linspace(0, 10, 100)\n",
    "plt.plot(x, np.sin(x))\n",
    "plt.axis('tight')\n",
    "#plt.axis('equal')\n",
    "plt.xlabel('X-axis')\n",
    "plt.ylabel('Y-axis')\n",
    "plt.title('Sine Graph')\n",
    "plt.savefig('plot.png')\n",
    "plt.show()\n"
   ]
  },
  {
   "cell_type": "code",
   "execution_count": null,
   "metadata": {},
   "outputs": [],
   "source": [
    "from IPython.display import Image\n",
    "Image('plot.png')"
   ]
  },
  {
   "cell_type": "markdown",
   "metadata": {},
   "source": [
    "# Session on 2/1/2021"
   ]
  },
  {
   "cell_type": "markdown",
   "metadata": {},
   "source": [
    "#### Subplots in Matplotlib\n",
    "*  Divide the figure window into a layout for different plots"
   ]
  },
  {
   "cell_type": "code",
   "execution_count": null,
   "metadata": {},
   "outputs": [],
   "source": [
    "#Subplots in Matplotlib\n",
    "plt.style.use('seaborn-whitegrid') \n",
    "import numpy as np\n",
    "x = np.arange(5)          #a numpy array [0,1,2,3,4]\n",
    "#plt.subplot(nrow, ncol, pos)\n",
    "plt.subplot(1,2,1)     #Divides the figure window into 1 row and 2 columns, plot goes to position 1\n",
    "plt.plot(x, x, label='linear')    # plot x versus x\n",
    "plt.subplot(1,2,2)\n",
    "plt.plot(x, x*x, label='square')"
   ]
  },
  {
   "cell_type": "code",
   "execution_count": null,
   "metadata": {
    "scrolled": true
   },
   "outputs": [],
   "source": [
    "#Subplots in Matplotlib\n",
    "import numpy as np\n",
    "x = np.arange(5)\n",
    "plt.subplot(2,2,1)     #Divides the figure window into 1 row and 2 columns\n",
    "plt.plot(x, x, label='linear')\n",
    "plt.subplot(2,2,2)\n",
    "plt.plot(x, x*x, label='square')\n",
    "plt.subplot(2,2,3)\n",
    "plt.plot(x, x*x*x, label='cube')\n",
    "plt.subplot(2,2,4)\n",
    "plt.plot(x, x*x*x*x, label='fourth')\n",
    "#add a x-axis lablels and title to each"
   ]
  },
  {
   "cell_type": "code",
   "execution_count": null,
   "metadata": {},
   "outputs": [],
   "source": [
    "#grid of subplots\n",
    "for i in range(1, 7):\n",
    "    plt.subplot(2, 3, i)\n",
    "    plt.text(0.5, 0.5, str((2,3,i)), fontsize = 18, ha = 'center')    #ha - horizontal center"
   ]
  },
  {
   "cell_type": "markdown",
   "metadata": {},
   "source": [
    " ### Bar Plots\n",
    " * Line Plots and Bar Plots correspond to Bivariate Analysis\n",
    " * A line plot is used when both X and Y Variables/Features are continuous (real nos )\n",
    " * When both X and Y variables are categorical or discrete we se a Bar Plot\n",
    " * Used to see the count or frequency of each category in the dataset\n",
    " * matplotlib.pyplot.bar(x, height, width=0.8, color,  bottom=None,  align='center', label)\n",
    " * orientation : {'vertical', 'horizontal'}, optional  use barh() for horizontal plots"
   ]
  },
  {
   "cell_type": "code",
   "execution_count": null,
   "metadata": {
    "scrolled": true
   },
   "outputs": [],
   "source": [
    "# Bar Plots\n",
    "#When both x and Y are discrete or categorical\n",
    "x=[2,8,10]                   #x takes discrete values \n",
    "y=[11,15,9]     #height or frequency of each bar\n",
    "plt.bar(x,y, color='r', label='red')\n",
    "\n",
    "x2=[12,5,15]\n",
    "y2=[6,8,10]\n",
    "plt.bar(x2,y2,color='g', label ='green')\n",
    "plt.legend()        # use this whenever  labels are used\n",
    "\n",
    "plt.title(\"Bar plot\")\n",
    "plt.xlabel(\"X axis\")\n",
    "plt.ylabel(\"Y axis\")"
   ]
  },
  {
   "cell_type": "code",
   "execution_count": null,
   "metadata": {},
   "outputs": [],
   "source": [
    "# Simple bar plot\n",
    "import numpy as np\n",
    "import matplotlib.pyplot as plt\n",
    "cities=['Delhi','Mumbai','Bangalore','Hydrabad']\n",
    "population=[23456123,10083104,18456123,13411093]\n",
    "plt.bar(cities,population,width=[.3,.1,.7,.4],color=['r','b','g','y'])\n",
    "\n",
    "#plt.barh(cities, population,color=['r','b','g','y'])\n",
    "plt.xlabel(\"Cities\")\n",
    "plt.ylabel(\"Population\")"
   ]
  },
  {
   "cell_type": "markdown",
   "metadata": {},
   "source": [
    "#### Histograms\n",
    "* A line Plot without giving x-axis, Histogram used for Univariate Analysis\n",
    "\n",
    "matplotlib.pyplot.hist(x, bins=None, range=None, density=None,  cumulative=False, bottom=None, histtype='bar', align='mid', orientation='vertical', color=None, label=None)\n",
    "* x- data,  bins - integer, range - lower and upper range of bins, histtype- The type of histogram to draw. \n",
    "* Default is ‘bar’,  ‘barstacked’ is a bar-type histogram where multiple data are stacked on top of each other.\n",
    "* ‘step’ generates a lineplot that is by default unfilled.\n",
    "* ‘stepfilled’ generates a lineplot that is by default filled\n",
    "* Density If True, the first element of the return tuple will be the counts normalized to form a probability density."
   ]
  },
  {
   "cell_type": "code",
   "execution_count": null,
   "metadata": {},
   "outputs": [],
   "source": [
    "#Recall of Univariate Lin eplot \n",
    "plt.plot([1, 2, 3, 4, 8])   #default values on x-axis are 0,1,2,3,4"
   ]
  },
  {
   "cell_type": "code",
   "execution_count": null,
   "metadata": {},
   "outputs": [],
   "source": [
    "# Histogram shows the quantitave values\n",
    "ages = [32, 67, 113, 89, 65, 102, 93, 54, 69, 103, 74, 87, 105, 78, 116, 28, 92, 108, 29, 118, 135, 76, 84, 78, 23, 104, 75, 81]\n",
    "age_groups = [0, 10, 20, 30, 40, 50, 60, 70, 80, 90, 100, 110, 120, 130, 140]\n",
    "plt.hist(ages, age_groups, rwidth = 0.9)\n",
    "\n",
    "plt.xlabel('age_groups')\n",
    "plt.ylabel('population_ages')\n",
    "plt.title(\"Histogram\")\n",
    "\n",
    "plt.show()"
   ]
  },
  {
   "cell_type": "code",
   "execution_count": null,
   "metadata": {},
   "outputs": [],
   "source": [
    "#HistoGram\n",
    "data=np.random.randn(100)\n",
    "plt.hist(data)\n",
    "bins=[-3,-2,-1,1,2,3]   #integer or sequence or ‘auto’, optional these nos are on the left of the bin\n",
    "plt.hist(data, bins=bins, color='blue',  edgecolor='green') "
   ]
  },
  {
   "cell_type": "code",
   "execution_count": null,
   "metadata": {},
   "outputs": [],
   "source": [
    "#hist function has many options to tune calculations and display\n",
    "data=np.random.randn(100)\n",
    "plt.hist(data,bins=30, histtype='stepfilled',color='steelblue',alpha=0.5)  #aplha lightens the color of hist"
   ]
  },
  {
   "cell_type": "code",
   "execution_count": null,
   "metadata": {
    "scrolled": true
   },
   "outputs": [],
   "source": [
    "np.random.seed(100)\n",
    "n_bins = 5\n",
    "x = np.random.randn(100, 3)    #three data could be say Revenue Profit and Sales of a Company\n",
    "colors = ['red', 'tan', 'lime']\n",
    "plt.hist(x, n_bins, density= None, histtype='bar', color = colors, label = colors)\n",
    "#plt.hist(x, n_bins, density= None, histtype='bar',  color = colors, label = colors, stacked = True)\n",
    "plt.legend()\n",
    "plt.xlabel(\"Stocks\")\n",
    "plt.ylabel(\"revenue and profit\")\n",
    "#plt.show()np.ran\n",
    "#explain 3 arrays and bin intervals in output"
   ]
  },
  {
   "cell_type": "markdown",
   "metadata": {},
   "source": [
    "## Box Plot (Univariate Analysis)\n"
   ]
  },
  {
   "cell_type": "markdown",
   "metadata": {},
   "source": [
    "### Scatter Plot\n",
    "*  Used to visualize relationship between two variables whether there is a correlation between two variables\n",
    "* Indicate the (x,y) points as markers. Do not join them with a line\n",
    "* plt.scatter(x, y, label, color, s=130 , marker)  # s is marker size\n"
   ]
  },
  {
   "cell_type": "code",
   "execution_count": null,
   "metadata": {},
   "outputs": [],
   "source": [
    "import matplotlib.pyplot as plt\n",
    "import numpy as np\n",
    "x = np.random.randn(10)\n",
    "y = np.random.randn(10)\n",
    "plt.scatter(x,y)             # Just marks the coordinates on the x-axis. \n",
    "#Understand why we dont use a Line plot here\n",
    "#plt.plot(x,y)"
   ]
  },
  {
   "cell_type": "code",
   "execution_count": null,
   "metadata": {},
   "outputs": [],
   "source": [
    "# Scatter plot using plt.plot()\n",
    "x = np.linspace(0, 10, 50)\n",
    "y = np.sin(x)\n",
    "plt.plot(x, y, 'o', color = 'blue')"
   ]
  },
  {
   "cell_type": "code",
   "execution_count": null,
   "metadata": {},
   "outputs": [],
   "source": [
    "plt.plot(x , y, '-og')"
   ]
  },
  {
   "cell_type": "code",
   "execution_count": null,
   "metadata": {},
   "outputs": [],
   "source": [
    "plt.plot(x, y, '-p', color='gray',\n",
    "         markersize=15, linewidth=4,  \n",
    "         markerfacecolor='white', \n",
    "         markeredgecolor='gray',\n",
    "         markeredgewidth=2)    \n",
    "plt.ylim(-1.2, 1.2);"
   ]
  },
  {
   "cell_type": "code",
   "execution_count": null,
   "metadata": {
    "scrolled": false
   },
   "outputs": [],
   "source": [
    "x = [1, 2, 3, 4, 5, 6, 7, 8]\n",
    "#y = [5, 2, 4, 2, 1, 4, 5, 2]\n",
    "y=[2,4,6,8,10,13,15,16]\n",
    "plt.scatter(x, y, label = 'cat', color = 'k', s=130 , marker = \"^\")  # s is marker size\n",
    "plt.xlabel(\"X\")\n",
    "plt.ylabel(\"Y\")\n",
    "plt.title(\"Scatter Plot\")\n",
    "plt.legend()\n",
    "plt.show()"
   ]
  },
  {
   "cell_type": "markdown",
   "metadata": {},
   "source": [
    "### Pie Chart/Pie Plot\n",
    "* Pie charts show the size of items (called wedge) in one data series, proportional to the sum of the items.\n",
    "* The fractional area of each wedge is given by x/sum(x).\n",
    "* The data points in a pie chart are shown as a percentage of the whole pie\n",
    "* matplotlib.plt.pie(x, label, autopct)   autopct represents the format in which the percentage will be displayed"
   ]
  },
  {
   "cell_type": "code",
   "execution_count": null,
   "metadata": {},
   "outputs": [],
   "source": [
    "import matplotlib.pyplot as plt, numpy\n",
    "plt.figure(figsize=(3,3))\n",
    "x=(40,20,5)\n",
    "labels=['Bikes', 'Cars', 'Buses']    #what is the % of each vehicle in the whole\n",
    "plt.pie(x, labels = labels)   #plot x with labels given\n",
    "plt.show()"
   ]
  },
  {
   "cell_type": "code",
   "execution_count": null,
   "metadata": {},
   "outputs": [],
   "source": [
    "from matplotlib import pyplot as plt\n",
    "import numpy as np\n",
    "plt.figure(figsize=(4,4))\n",
    "langs = ['C', 'C++', 'Java', 'Python', 'PHP']\n",
    "students = [23,17,35,29,12]\n",
    "cols = ['c', 'm', 'r', 'b', 'g']\n",
    "#plt.pie(students, labels = langs, colors = cols, explode = (0, 0.1, 0, 0,0), autopct='%1.2f%%')\n",
    "plt.pie(students , labels = langs, colors = cols, startangle = 90, shadow = False, explode = (0, 0.1, 0, 0,0), autopct = '%1.1f%%')\n",
    "plt.show()"
   ]
  },
  {
   "cell_type": "markdown",
   "metadata": {},
   "source": [
    "#### Box Plot\n",
    "* Also known as a whisker plot displays a summary of a set of data \n",
    "* Containing the minimum, first quartile, median, third quartile, and maximum. \n",
    "* In a box plot, we draw a box from the first quartile to the third quartile. \n",
    "* A vertical line goes through the box at the median. The whiskers go from each quartile to the minimum or maximum.\n",
    "* It helps us to identify outliers in the data\n",
    "* Points lying outside are generally outliers"
   ]
  },
  {
   "cell_type": "code",
   "execution_count": null,
   "metadata": {},
   "outputs": [],
   "source": [
    "\n",
    "data2 = np.random.normal(80, 30, 200)\n",
    "data3 = np.random.nimport matplotlib.pyplot as plt\n",
    "#Generating two random normal variates\n",
    "#We use the numpy.random.normal() function to create the fake data.\n",
    "#arguments are mean and standard deviation of the normal distribution, and the number of values desired.\n",
    "np.random.seed(10)\n",
    "data1 = np.random.normal(100, 10, 200)  ormal(100, 20, 200)\n",
    "# Create the boxplot\n",
    "data=[data1, data2, data3]\n",
    "plt.boxplot(data)\n",
    "plt.show()\n",
    "#Observe the mean and standard deviation in the graph"
   ]
  },
  {
   "cell_type": "markdown",
   "metadata": {},
   "source": [
    "#### Error Bars\n",
    "* Matplotlib line plots and bar charts can include error bars.\n",
    "* Error bars are useful because error bars show the confidence or precision in a set of measurements or calculated values.\n",
    "* Bar charts without error bars give the illusion that a measured or calculated value is precise.\n",
    "* Short error bar shows that values are concentrated signaling that the plotted averaged value is more likely\n",
    "* While a long error bar would indicate that the values are more spread out and less reliable."
   ]
  },
  {
   "cell_type": "code",
   "execution_count": null,
   "metadata": {},
   "outputs": [],
   "source": [
    "#Error Bar added to line plot\n",
    "plt.style.use('seaborn-whitegrid')\n",
    "x = np.arange(10)/10 \n",
    "y = (x + 0.1)**2     # instead of x2 we have x+0.1 to power 2\n",
    "# defing our error  \n",
    "y_error = np.linspace(0.05, 0.2, 10)    #error is between 0.05 and 0.2 in the square \n",
    "  \n",
    "# ploting our function and  error bar \n",
    "#plt.plot(x, y)  \n",
    "plt.errorbar(x, y, yerr = y_error, fmt ='or') \n",
    "plt. xlabel('x-axis')\n",
    "plt.ylabel('y-axis')\n",
    "plt.title('Line plot with error bars')"
   ]
  },
  {
   "cell_type": "code",
   "execution_count": null,
   "metadata": {},
   "outputs": [],
   "source": [
    "# Error can be added to the x-value too then the error bars are horizontal\n",
    "x = np.arange(10)/10 \n",
    "x_error=0.1\n",
    "y = (x)**2     # instead of x2 we have x+0.1 to power 2\n",
    "# defing our error  \n",
    "#y_error = np.linspace(0.05, 0.2, 10)    #error is between 0.05 and 0.2 in the square \n",
    "# ploting our function and  error bar \n",
    "plt.plot(x, y)  \n",
    "plt.errorbar(x, y, xerr = x_error, fmt ='or') \n",
    "plt. xlabel('x-axis')\n",
    "plt.ylabel('y-axis')\n",
    "plt.title('Line plot with error bars')"
   ]
  },
  {
   "cell_type": "code",
   "execution_count": null,
   "metadata": {},
   "outputs": [],
   "source": []
  }
 ],
 "metadata": {
  "kernelspec": {
   "display_name": "Python 3",
   "language": "python",
   "name": "python3"
  },
  "language_info": {
   "codemirror_mode": {
    "name": "ipython",
    "version": 3
   },
   "file_extension": ".py",
   "mimetype": "text/x-python",
   "name": "python",
   "nbconvert_exporter": "python",
   "pygments_lexer": "ipython3",
   "version": "3.8.3"
  }
 },
 "nbformat": 4,
 "nbformat_minor": 4
}
