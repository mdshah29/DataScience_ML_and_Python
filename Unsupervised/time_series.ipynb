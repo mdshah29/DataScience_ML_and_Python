{
 "cells": [
  {
   "cell_type": "code",
   "execution_count": 1,
   "metadata": {},
   "outputs": [
    {
     "name": "stdout",
     "output_type": "stream",
     "text": [
      "['MAXYEAR', 'MINYEAR', '__builtins__', '__cached__', '__doc__', '__file__', '__loader__', '__name__', '__package__', '__spec__', 'date', 'datetime', 'datetime_CAPI', 'sys', 'time', 'timedelta', 'timezone', 'tzinfo']\n",
      "2008-08-18\n",
      "Difference:  -8\n",
      "delta object type:  <class 'datetime.timedelta'>\n",
      "Current date = 2021-06-26\n",
      "Current year: 2021\n",
      "Current month: 6\n",
      "Current day: 26\n"
     ]
    }
   ],
   "source": [
    "import pandas as pd\n",
    "import matplotlib.pyplot as plt\n",
    "import seaborn as sns\n",
    "\n",
    "import warnings                                  # `do not disturbe` mode\n",
    "warnings.filterwarnings('ignore')\n",
    "# Look at the datetime module which helps to  manipulate date and time\n",
    "import datetime\n",
    "\n",
    "#use dir() function to get a list containing all attributes of a module.\n",
    "print(dir(datetime))\n",
    "\n",
    "\n",
    "# date Class\n",
    "# import datetime\n",
    "from datetime import date\n",
    "from datetime import datetime\n",
    "# Create two dates\n",
    "date1 = date(2008, 8, 18)\n",
    "date2 = date(2008, 8, 10)\n",
    "print(date1)\n",
    "# Difference between two dates\n",
    "delta = date2 - date1\n",
    "print(\"Difference: \", delta.days)\n",
    "print('delta object type: ', type(delta))\n",
    "#print todays date\n",
    "today = date.today()\n",
    "print(\"Current date =\", today)\n",
    "print(\"Current year:\", today.year)\n",
    "print(\"Current month:\", today.month)\n",
    "print(\"Current day:\", today.day)\n"
   ]
  },
  {
   "cell_type": "code",
   "execution_count": 2,
   "metadata": {},
   "outputs": [
    {
     "name": "stdout",
     "output_type": "stream",
     "text": [
      "Current date = 2021-06-26 07:20:24.553154\n",
      "Current year: 2021\n",
      "Current month: 7\n",
      "Current day: 20\n",
      "Current time 07:20:24.553154\n",
      "a = 00:00:00\n",
      "b = 11:34:56\n",
      "c = 11:34:56\n",
      "d = 11:34:56.234566\n",
      "hour = 11\n",
      "minute = 34\n",
      "second = 56\n",
      "microsecond = 234566\n"
     ]
    }
   ],
   "source": [
    "today = datetime.now()\n",
    "print(\"Current date =\", today)\n",
    "print(\"Current year:\", today.year)\n",
    "print(\"Current month:\", today.hour)\n",
    "print(\"Current day:\", today.minute)\n",
    "print(\"Current time\", today.time())\n",
    "from datetime import time\n",
    "\n",
    "# time(hour = 0, minute = 0, second = 0)\n",
    "a = time()\n",
    "print(\"a =\", a)\n",
    "\n",
    "# time(hour, minute and second)\n",
    "b = time(11, 34, 56)\n",
    "print(\"b =\", b)\n",
    "\n",
    "# time(hour, minute and second)\n",
    "c = time(hour = 11, minute = 34, second = 56)\n",
    "print(\"c =\", c)\n",
    "\n",
    "# time(hour, minute, second, microsecond)\n",
    "d = time(11, 34, 56, 234566)\n",
    "print(\"d =\", d)\n",
    "\n",
    "print(\"hour =\", d.hour)\n",
    "print(\"minute =\", d.minute)\n",
    "print(\"second =\", d.second)\n",
    "print(\"microsecond =\", d.microsecond)\n"
   ]
  },
  {
   "cell_type": "code",
   "execution_count": 3,
   "metadata": {},
   "outputs": [
    {
     "name": "stdout",
     "output_type": "stream",
     "text": [
      "2018-11-28 00:00:00\n",
      "2017-11-28 23:55:59.342380\n",
      "year = 2017\n",
      "month = 11\n",
      "hour = 23\n",
      "minute = 55\n"
     ]
    }
   ],
   "source": [
    "#The datetime module has a class named dateclass that can contain information from both date and time objects.\n",
    "#The first three arguments year, month and day in the datetime() constructor are mandatory.\n",
    "from datetime import datetime\n",
    "\n",
    "#datetime(year, month, day)\n",
    "b = datetime(2018, 11, 28)\n",
    "print(b)\n",
    "\n",
    "# datetime(year, month, day, hour, minute, second, microsecond)\n",
    "a = datetime(2017, 11, 28, 23, 55, 59, 342380)\n",
    "print(a)\n",
    "\n",
    "#Once again we can access all attributes of datetime with dot operator\n",
    "a = datetime(2017, 11, 28, 23, 55, 59, 342380)\n",
    "print(\"year =\", a.year)\n",
    "print(\"month =\", a.month)\n",
    "print(\"hour =\", a.hour)\n",
    "print(\"minute =\", a.minute)\n"
   ]
  },
  {
   "cell_type": "code",
   "execution_count": 5,
   "metadata": {},
   "outputs": [
    {
     "name": "stdout",
     "output_type": "stream",
     "text": [
      "t6 = 332 days, 22:45:40\n",
      "type of t6 = <class 'datetime.timedelta'>\n",
      "timestamp = 1531359573.0\n"
     ]
    }
   ],
   "source": [
    "# difference between 2 complete timestamps\n",
    "t4 = datetime(year = 2018, month = 7, day = 12, hour = 7, minute = 9, second = 33)\n",
    "t5 = datetime(year = 2019, month = 6, day = 10, hour = 5, minute = 55, second = 13)\n",
    "t6 = t5-t4\n",
    "print(\"t6 =\", t6)\n",
    "print(\"type of t6 =\", type(t6))  \n",
    "print(\"timestamp =\", t4.timestamp())\n"
   ]
  },
  {
   "cell_type": "code",
   "execution_count": 4,
   "metadata": {},
   "outputs": [
    {
     "name": "stdout",
     "output_type": "stream",
     "text": [
      "08 18 08\n",
      "<class 'str'> <class 'int'>\n"
     ]
    }
   ],
   "source": [
    "dt=date(2008, 8, 18)\n",
    "\n",
    "dtday = dt.strftime('%d')\n",
    "dtmonth = dt.strftime('%m')\n",
    "dtyear = dt.strftime('%y')\n",
    "print(dtmonth, dtday, dtyear)\n",
    "print(type(dtmonth), type(int(dtmonth)))\n"
   ]
  }
 ],
 "metadata": {
  "kernelspec": {
   "display_name": "Python 3",
   "language": "python",
   "name": "python3"
  },
  "language_info": {
   "codemirror_mode": {
    "name": "ipython",
    "version": 3
   },
   "file_extension": ".py",
   "mimetype": "text/x-python",
   "name": "python",
   "nbconvert_exporter": "python",
   "pygments_lexer": "ipython3",
   "version": "3.7.7"
  }
 },
 "nbformat": 4,
 "nbformat_minor": 4
}
