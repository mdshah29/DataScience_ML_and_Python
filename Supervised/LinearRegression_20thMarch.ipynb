{
 "cells": [
  {
   "cell_type": "code",
   "execution_count": 1,
   "metadata": {},
   "outputs": [
    {
     "name": "stdout",
     "output_type": "stream",
     "text": [
      "0     4\n",
      "1     7\n",
      "2     9\n",
      "3     5\n",
      "4     8\n",
      "5     4\n",
      "6    10\n",
      "7    12\n",
      "8    14\n",
      "9     9\n",
      "Name: floor, dtype: int64\n"
     ]
    },
    {
     "data": {
      "text/html": [
       "<div>\n",
       "<style scoped>\n",
       "    .dataframe tbody tr th:only-of-type {\n",
       "        vertical-align: middle;\n",
       "    }\n",
       "\n",
       "    .dataframe tbody tr th {\n",
       "        vertical-align: top;\n",
       "    }\n",
       "\n",
       "    .dataframe thead th {\n",
       "        text-align: right;\n",
       "    }\n",
       "</style>\n",
       "<table border=\"1\" class=\"dataframe\">\n",
       "  <thead>\n",
       "    <tr style=\"text-align: right;\">\n",
       "      <th></th>\n",
       "      <th>size</th>\n",
       "      <th>floor</th>\n",
       "      <th>bbrate</th>\n",
       "    </tr>\n",
       "  </thead>\n",
       "  <tbody>\n",
       "    <tr>\n",
       "      <th>0</th>\n",
       "      <td>500</td>\n",
       "      <td>4</td>\n",
       "      <td>8</td>\n",
       "    </tr>\n",
       "    <tr>\n",
       "      <th>1</th>\n",
       "      <td>550</td>\n",
       "      <td>7</td>\n",
       "      <td>50</td>\n",
       "    </tr>\n",
       "    <tr>\n",
       "      <th>2</th>\n",
       "      <td>620</td>\n",
       "      <td>9</td>\n",
       "      <td>7</td>\n",
       "    </tr>\n",
       "    <tr>\n",
       "      <th>3</th>\n",
       "      <td>630</td>\n",
       "      <td>5</td>\n",
       "      <td>24</td>\n",
       "    </tr>\n",
       "    <tr>\n",
       "      <th>4</th>\n",
       "      <td>665</td>\n",
       "      <td>8</td>\n",
       "      <td>100</td>\n",
       "    </tr>\n",
       "    <tr>\n",
       "      <th>5</th>\n",
       "      <td>700</td>\n",
       "      <td>4</td>\n",
       "      <td>8</td>\n",
       "    </tr>\n",
       "    <tr>\n",
       "      <th>6</th>\n",
       "      <td>770</td>\n",
       "      <td>10</td>\n",
       "      <td>7</td>\n",
       "    </tr>\n",
       "    <tr>\n",
       "      <th>7</th>\n",
       "      <td>880</td>\n",
       "      <td>12</td>\n",
       "      <td>50</td>\n",
       "    </tr>\n",
       "    <tr>\n",
       "      <th>8</th>\n",
       "      <td>920</td>\n",
       "      <td>14</td>\n",
       "      <td>8</td>\n",
       "    </tr>\n",
       "    <tr>\n",
       "      <th>9</th>\n",
       "      <td>1000</td>\n",
       "      <td>9</td>\n",
       "      <td>24</td>\n",
       "    </tr>\n",
       "  </tbody>\n",
       "</table>\n",
       "</div>"
      ],
      "text/plain": [
       "   size  floor  bbrate\n",
       "0   500      4       8\n",
       "1   550      7      50\n",
       "2   620      9       7\n",
       "3   630      5      24\n",
       "4   665      8     100\n",
       "5   700      4       8\n",
       "6   770     10       7\n",
       "7   880     12      50\n",
       "8   920     14       8\n",
       "9  1000      9      24"
      ]
     },
     "execution_count": 1,
     "metadata": {},
     "output_type": "execute_result"
    }
   ],
   "source": [
    "import pandas as pd\n",
    "import numpy as np\n",
    "\n",
    "df=pd.DataFrame({'size': [500, 550, 620, 630, 665, 700, 770, 880, 920, 1000],\n",
    "                 'floor' :[4,7,9,5,8,4,10,12,14,9],\n",
    "                 'bbrate':[8,50,7,24,100,8,7,50,8,24],\n",
    "                 'rp': [320, 380, 400, 390, 385, 410, 480, 600, 570, 620]})\n",
    "df\n",
    "print(df.iloc[:,1])\n",
    "# #  Regression Analysis   Here Rp is  the target to be predicted so remove it from dataset\n",
    "y = df['rp']       #store before dropping\n",
    "X = df.drop('rp', axis=1)    #  drop \n",
    "X\n"
   ]
  },
  {
   "cell_type": "code",
   "execution_count": 14,
   "metadata": {},
   "outputs": [
    {
     "name": "stdout",
     "output_type": "stream",
     "text": [
      "   size  floor  bbrate\n",
      "2   620      9       7\n",
      "8   920     14       8\n",
      "4   665      8     100\n"
     ]
    }
   ],
   "source": [
    "#Split data into training and test part defualt(70:30 split)\n",
    "from sklearn.model_selection import train_test_split\n",
    "train_x, test_x, train_y, test_y = train_test_split(X, y, random_state=0)\n",
    "#print(train_x)\n",
    "#print(train_y)\n",
    "print(test_x)"
   ]
  },
  {
   "cell_type": "code",
   "execution_count": 15,
   "metadata": {},
   "outputs": [
    {
     "name": "stdout",
     "output_type": "stream",
     "text": [
      "8.29829316768189\n",
      "[0.53506862 6.12358691 0.8082681 ]\n"
     ]
    }
   ],
   "source": [
    "from sklearn.linear_model import LinearRegression\n",
    "model = LinearRegression()\n",
    "model.fit(train_x,train_y)\n",
    "print (model.intercept_)\n",
    "print(model.coef_)"
   ]
  },
  {
   "cell_type": "code",
   "execution_count": 16,
   "metadata": {},
   "outputs": [
    {
     "name": "stdout",
     "output_type": "stream",
     "text": [
      "\n",
      "        size     floor    bbrate\n",
      "0  0.535069  6.123587  0.808268\n"
     ]
    }
   ],
   "source": [
    "features=['size', 'floor', 'bbrate']\n",
    "# displaying coefficients of each feature\n",
    "coeffs = pd.DataFrame(model.coef_,features)\n",
    "print(\"\\n\", coeffs.T)"
   ]
  },
  {
   "cell_type": "code",
   "execution_count": 17,
   "metadata": {},
   "outputs": [
    {
     "data": {
      "text/plain": [
       "array([400.8109979 , 592.75778725, 493.93443231])"
      ]
     },
     "execution_count": 17,
     "metadata": {},
     "output_type": "execute_result"
    }
   ],
   "source": [
    "pred_y = model.predict(test_x)\n",
    "pred_y"
   ]
  },
  {
   "cell_type": "code",
   "execution_count": 18,
   "metadata": {},
   "outputs": [
    {
     "name": "stdout",
     "output_type": "stream",
     "text": [
      "\n",
      " Mean squared error =: 4128.428380179028\n",
      "\n",
      " [400.8109979  592.75778725 493.93443231]\n",
      "\n",
      " 2    400\n",
      "8    570\n",
      "4    385\n",
      "Name: rp, dtype: int64\n"
     ]
    },
    {
     "data": {
      "text/plain": [
       "4128.428380179028"
      ]
     },
     "execution_count": 18,
     "metadata": {},
     "output_type": "execute_result"
    }
   ],
   "source": [
    "import sklearn.metrics as ski\n",
    "\n",
    "pred_y = model.predict(test_x)\n",
    "print(\"\\n Mean squared error =:\", ski.mean_squared_error(pred_y,test_y))\n",
    "print(\"\\n\", pred_y)\n",
    "print(\"\\n\", test_y)\n",
    "mse = (sum((pred_y-test_y) **2))/(len(pred_y))\n",
    "mse\n"
   ]
  },
  {
   "cell_type": "code",
   "execution_count": 27,
   "metadata": {},
   "outputs": [
    {
     "data": {
      "text/plain": [
       "485.2687601676819"
      ]
     },
     "execution_count": 27,
     "metadata": {},
     "output_type": "execute_result"
    }
   ],
   "source": [
    "# Prediction for size = 690, floor=11,  bbrate=50\n",
    "8.29829316768189+ 0.535069*690 + 6.123587*11 + 0.808268*50"
   ]
  },
  {
   "cell_type": "code",
   "execution_count": 26,
   "metadata": {},
   "outputs": [
    {
     "name": "stdout",
     "output_type": "stream",
     "text": [
      "\n",
      " Mean absolute error =: 44.167739155104414\n"
     ]
    }
   ],
   "source": [
    "pred_y = model.predict(test_x)\n",
    "print(\"\\n Mean absolute error =:\", ski.mean_absolute_error(pred_y,test_y))"
   ]
  },
  {
   "cell_type": "code",
   "execution_count": 25,
   "metadata": {},
   "outputs": [
    {
     "name": "stdout",
     "output_type": "stream",
     "text": [
      "\n",
      " Root Mean squared error =: 4128.428380179028\n"
     ]
    }
   ],
   "source": [
    "\n",
    "pred_y = model.predict(test_x)\n",
    "print(\"\\n Root Mean squared error =:\", ski.mean_squared_error(pred_y,test_y))"
   ]
  },
  {
   "cell_type": "code",
   "execution_count": 24,
   "metadata": {},
   "outputs": [
    {
     "name": "stdout",
     "output_type": "stream",
     "text": [
      "\n",
      " Mean r2 score error =: 0.3278802389103531\n"
     ]
    }
   ],
   "source": [
    "pred_y = model.predict(test_x)\n",
    "print(\"\\n Mean r2 score error =:\", ski.r2_score(pred_y,test_y))"
   ]
  }
 ],
 "metadata": {
  "kernelspec": {
   "display_name": "Python 3",
   "language": "python",
   "name": "python3"
  },
  "language_info": {
   "codemirror_mode": {
    "name": "ipython",
    "version": 3
   },
   "file_extension": ".py",
   "mimetype": "text/x-python",
   "name": "python",
   "nbconvert_exporter": "python",
   "pygments_lexer": "ipython3",
   "version": "3.7.7"
  }
 },
 "nbformat": 4,
 "nbformat_minor": 4
}
